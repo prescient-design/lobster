{
 "cells": [
  {
   "cell_type": "code",
   "execution_count": 3,
   "id": "68a4f40f-d6f9-48bc-a970-a7bc59120b22",
   "metadata": {},
   "outputs": [
    {
     "name": "stdout",
     "output_type": "stream",
     "text": [
      "The autoreload extension is already loaded. To reload it, use:\n",
      "  %reload_ext autoreload\n"
     ]
    },
    {
     "name": "stderr",
     "output_type": "stream",
     "text": [
      "/homefs/home/lawrenh6/envlob/.venv/lib/python3.12/site-packages/tqdm/auto.py:21: TqdmWarning: IProgress not found. Please update jupyter and ipywidgets. See https://ipywidgets.readthedocs.io/en/stable/user_install.html\n",
      "  from .autonotebook import tqdm as notebook_tqdm\n"
     ]
    }
   ],
   "source": [
    "%load_ext autoreload\n",
    "%autoreload 2\n",
    "import os\n",
    "import pickle\n",
    "import numpy as np\n",
    "import polars as pl\n",
    "from pathlib import Path\n",
    "from typing import List, Dict, Tuple\n",
    "from tqdm import tqdm\n",
    "import logging\n",
    "import pyarrow as pa\n",
    "import pyarrow.parquet as pq\n",
    "import time\n",
    "from datetime import datetime, timedelta\n",
    "import sys\n",
    "\n",
    "# QM9 and RDKit imports\n",
    "from atomic_datasets import QM9\n",
    "from atomic_datasets.utils.rdkit import is_molecule_sane\n",
    "from rdkit import Chem\n",
    "from rdkit.Chem import AllChem, DataStructs, rdFingerprintGenerator\n",
    "import selfies as sf\n",
    "\n",
    "# Import our utility functions\n",
    "#from utils_qm9 import get_shape_tanimoto\n",
    "import pandas as pd\n",
    "#from qm9_pair_generation import is_valency_ok\n",
    "from qm9_pair_gen.utils_mol import *\n",
    "import sys\n",
    "sys.path.append('/homefs/home/lawrenh6/lobster/src/lobster/callbacks')\n",
    "from _molecule_validation_callback import MoleculeValidationCallback"
   ]
  },
  {
   "cell_type": "code",
   "execution_count": null,
   "id": "b8ef257d-90c6-4260-9766-23bdc4afec92",
   "metadata": {},
   "outputs": [],
   "source": []
  }
 ],
 "metadata": {
  "kernelspec": {
   "display_name": "envlob",
   "language": "python",
   "name": "envlob"
  },
  "language_info": {
   "codemirror_mode": {
    "name": "ipython",
    "version": 3
   },
   "file_extension": ".py",
   "mimetype": "text/x-python",
   "name": "python",
   "nbconvert_exporter": "python",
   "pygments_lexer": "ipython3",
   "version": "3.12.11"
  }
 },
 "nbformat": 4,
 "nbformat_minor": 5
}
