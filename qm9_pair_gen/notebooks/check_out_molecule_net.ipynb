{
 "cells": [
  {
   "cell_type": "code",
   "execution_count": 1,
   "id": "52112773-54ac-47ba-8d89-336b97d87c02",
   "metadata": {},
   "outputs": [],
   "source": [
    "from rdkit import Chem\n",
    "import os \n",
    "\n",
    "data_dir = '/data/lawrenh6'\n",
    "molnet_dir = '/data/bucket/guided_generation_SM/datasets/moleculenet/'"
   ]
  },
  {
   "cell_type": "code",
   "execution_count": 9,
   "id": "bb2058d9-6209-46aa-b85b-cb5b8a99b2c7",
   "metadata": {
    "scrolled": true
   },
   "outputs": [
    {
     "name": "stdout",
     "output_type": "stream",
     "text": [
      "CCCN(CCC)C(=O)c1cc(C)cc(C(=O)N[C@@H](Cc2cc(F)cc(F)c2)[C@H](O)[C@H]2C[C@@H](OCC)CC[NH2+]2)c1\n",
      "['SMILES', 'Class', 'mol_id', 'SA', 'SC']\n",
      "CCCC[NH2+]C(=O)[C@@H](NC(=O)[C@@H]1CC(=O)C[C@H]1[C@H](O)[C@H](CC(C)C)NC(=O)[C@H](CCSC)NC(=O)[C@H](CC(C)C)NC(C)=O)C(C)C\n",
      "['SMILES', 'Class', 'mol_id', 'SA', 'SC']\n",
      "CCCN(CCC)C(=O)c1cc(C(N)=O)cc(C(=O)N[C@@H](Cc2cc(F)cc(F)c2)[C@H](O)C[NH2+]Cc2cccc(OC)c2)c1\n",
      "['SMILES', 'Class', 'mol_id', 'SA', 'SC']\n",
      "CCC[C@H](Cc1cc2cc(-c3ccccc3C)ccc2nc1N)C(=O)NCC1CCCCC1\n",
      "['SMILES', 'Class', 'mol_id', 'SA', 'SC']\n",
      "CO[C@H](C)C(=O)N[C@@H](Cc1ccc2c(c1)OCO2)[C@H](O)C[NH2+][C@H]1CC2(CCC2)Oc2ncc(CC(C)(C)C)cc21\n",
      "['SMILES', 'Class', 'mol_id', 'SA', 'SC']\n",
      "COCc1cc2cc(c1)C(=O)N[C@H]([C@H](O)C[NH2+]C1(c3cccc(C(C)C)c3)CC1)Cc1cccc(c1)OCCCCN2\n",
      "['SMILES', 'Class', 'mol_id', 'SA', 'SC']\n",
      "CCNc1cc(C(=O)N[C@@H](Cc2ccccc2)[C@H](O)C[NH2+]Cc2cccc(OC)c2)cc2c1CCCS(=O)(=O)N2C\n",
      "['SMILES', 'Class', 'mol_id', 'SA', 'SC']\n",
      "CN1C(=O)[C@@](c2ccc(OC(F)(F)F)cc2)(c2ccc(F)c(-c3cncnc3)c2)N=C1N\n",
      "['SMILES', 'Class', 'mol_id', 'SA', 'SC']\n",
      "CCn1ccc2c(N3CCCC3=O)cc(C(=O)N[C@@H](CC3=CC=CCC3)[C@H](O)C[NH2+]Cc3cccc(OC)c3)cc21\n",
      "['SMILES', 'Class', 'mol_id', 'SA', 'SC']\n",
      "CCN1CCN2CCS(=O)(=O)N(C)c3cc(C(=O)N[C@@H](Cc4ccccc4)[C@H](O)C[NH2+]Cc4cccc(OC)c4)cc1c32\n",
      "['SMILES', 'Class', 'mol_id', 'SA', 'SC']\n"
     ]
    }
   ],
   "source": [
    "# Replace with your actual .sdf file path\n",
    "sdf_file = os.path.join(molnet_dir, \"bace_b_test_best1.sdf\")\n",
    "\n",
    "# Load molecules\n",
    "supplier = Chem.SDMolSupplier(sdf_file)\n",
    "\n",
    "# Convert to list (filter out invalid molecules)\n",
    "molecules = [mol for mol in supplier if mol is not None]\n",
    "\n",
    "# Example: print SMILES and properties\n",
    "for mol in molecules[:10]:\n",
    "    print(Chem.MolToSmiles(mol))\n",
    "    print([ky for ky in mol.GetPropNames()])  # Property keys\n",
    "    if mol.HasProp(\"logP\"):\n",
    "        print(\"logP:\", mol.GetProp(\"logP\"))"
   ]
  },
  {
   "cell_type": "code",
   "execution_count": 5,
   "id": "6e0c86da-31e1-4d84-9bc9-656d5138cdba",
   "metadata": {},
   "outputs": [
    {
     "data": {
      "text/plain": [
       "267"
      ]
     },
     "execution_count": 5,
     "metadata": {},
     "output_type": "execute_result"
    }
   ],
   "source": [
    "len(molecules)"
   ]
  },
  {
   "cell_type": "code",
   "execution_count": 6,
   "id": "95afd598-3fda-4933-93f5-f43431977896",
   "metadata": {},
   "outputs": [
    {
     "data": {
      "text/plain": [
       "rdkit.Chem.rdchem.Mol"
      ]
     },
     "execution_count": 6,
     "metadata": {},
     "output_type": "execute_result"
    }
   ],
   "source": [
    "type(molecules[0])"
   ]
  },
  {
   "cell_type": "code",
   "execution_count": 12,
   "id": "0e0f066c-df08-442a-9bf1-fd35a5862707",
   "metadata": {},
   "outputs": [
    {
     "data": {
      "text/plain": [
       "'4.6'"
      ]
     },
     "execution_count": 12,
     "metadata": {},
     "output_type": "execute_result"
    }
   ],
   "source": [
    "molecules[0].GetProp(\"SC\")"
   ]
  },
  {
   "cell_type": "code",
   "execution_count": 8,
   "id": "452b358b-cccf-4861-aa05-7fd58bbb81c6",
   "metadata": {},
   "outputs": [
    {
     "data": {
      "text/plain": [
       "1"
      ]
     },
     "execution_count": 8,
     "metadata": {},
     "output_type": "execute_result"
    }
   ],
   "source": [
    "molecules[0].GetNumConformers()"
   ]
  },
  {
   "cell_type": "code",
   "execution_count": null,
   "id": "5762af26-72bd-4b06-b58d-33bed3f3fa1b",
   "metadata": {},
   "outputs": [],
   "source": []
  }
 ],
 "metadata": {
  "kernelspec": {
   "display_name": "envlob",
   "language": "python",
   "name": "envlob"
  },
  "language_info": {
   "codemirror_mode": {
    "name": "ipython",
    "version": 3
   },
   "file_extension": ".py",
   "mimetype": "text/x-python",
   "name": "python",
   "nbconvert_exporter": "python",
   "pygments_lexer": "ipython3",
   "version": "3.12.11"
  }
 },
 "nbformat": 4,
 "nbformat_minor": 5
}
