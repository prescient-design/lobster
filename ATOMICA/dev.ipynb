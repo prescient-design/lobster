{
 "cells": [
  {
   "cell_type": "code",
   "execution_count": 2,
   "id": "48c91188",
   "metadata": {},
   "outputs": [],
   "source": [
    "%load_ext autoreload\n",
    "%autoreload 2\n",
    "import pandas as pd"
   ]
  },
  {
   "cell_type": "code",
   "execution_count": 11,
   "id": "b20dd05b",
   "metadata": {},
   "outputs": [
    {
     "name": "stderr",
     "output_type": "stream",
     "text": [
      "No files have been modified since last commit. Skipping to prevent empty commit.\n"
     ]
    },
    {
     "data": {
      "text/plain": [
       "CommitInfo(commit_url='https://huggingface.co/datasets/karina-zadorozhny/ATOMICA/commit/96fa9681245a042487bc67a25502e5a7ce8704b5', commit_message='Upload folder using huggingface_hub', commit_description='', oid='96fa9681245a042487bc67a25502e5a7ce8704b5', pr_url=None, repo_url=RepoUrl('https://huggingface.co/datasets/karina-zadorozhny/ATOMICA', endpoint='https://huggingface.co', repo_type='dataset', repo_id='karina-zadorozhny/ATOMICA'), pr_revision=None, pr_num=None)"
      ]
     },
     "execution_count": 11,
     "metadata": {},
     "output_type": "execute_result"
    }
   ],
   "source": [
    "from huggingface_hub import Repository\n",
    "import subprocess\n",
    "from huggingface_hub import HfApi\n",
    "\n",
    "api = HfApi()\n",
    "\n",
    "api.upload_folder(\n",
    "    folder_path=\"./ATOMICA\",\n",
    "    path_in_repo=\".\", # Upload to a specific folder\n",
    "    repo_id=\"karina-zadorozhny/ATOMICA\",\n",
    "    repo_type=\"dataset\",\n",
    ")"
   ]
  },
  {
   "cell_type": "code",
   "execution_count": 12,
   "id": "585767d2",
   "metadata": {},
   "outputs": [
    {
     "name": "stderr",
     "output_type": "stream",
     "text": [
      "No files have been modified since last commit. Skipping to prevent empty commit.\n"
     ]
    },
    {
     "data": {
      "text/plain": [
       "CommitInfo(commit_url='https://huggingface.co/datasets/karina-zadorozhny/ATOMICA/commit/96fa9681245a042487bc67a25502e5a7ce8704b5', commit_message='Upload folder using huggingface_hub', commit_description='', oid='96fa9681245a042487bc67a25502e5a7ce8704b5', pr_url=None, repo_url=RepoUrl('https://huggingface.co/datasets/karina-zadorozhny/ATOMICA', endpoint='https://huggingface.co', repo_type='dataset', repo_id='karina-zadorozhny/ATOMICA'), pr_revision=None, pr_num=None)"
      ]
     },
     "execution_count": 12,
     "metadata": {},
     "output_type": "execute_result"
    }
   ],
   "source": [
    "from huggingface_hub import Repository\n",
    "import subprocess\n",
    "from huggingface_hub import HfApi\n",
    "\n",
    "api = HfApi()\n",
    "\n",
    "api.upload_folder(\n",
    "    folder_path=\"./ATOMICA/split=test\",\n",
    "    path_in_repo=\"split=test\", # Upload to a specific folder\n",
    "    repo_id=\"karina-zadorozhny/ATOMICA\",\n",
    "    repo_type=\"dataset\",\n",
    ")"
   ]
  },
  {
   "cell_type": "code",
   "execution_count": null,
   "id": "49951434",
   "metadata": {},
   "outputs": [],
   "source": []
  }
 ],
 "metadata": {
  "kernelspec": {
   "display_name": ".venv",
   "language": "python",
   "name": "python3"
  },
  "language_info": {
   "codemirror_mode": {
    "name": "ipython",
    "version": 3
   },
   "file_extension": ".py",
   "mimetype": "text/x-python",
   "name": "python",
   "nbconvert_exporter": "python",
   "pygments_lexer": "ipython3",
   "version": "3.11.10"
  }
 },
 "nbformat": 4,
 "nbformat_minor": 5
}
