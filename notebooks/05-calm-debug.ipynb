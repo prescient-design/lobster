{
 "cells": [
  {
   "cell_type": "code",
   "execution_count": null,
   "id": "1f3e53a2",
   "metadata": {},
   "outputs": [
    {
     "name": "stderr",
     "output_type": "stream",
     "text": [
      "/homefs/home/sorenst1/code/prescient/lobster_internal/.venv/lib/python3.12/site-packages/torch/cuda/__init__.py:716: UserWarning: Can't initialize NVML\n",
      "  warnings.warn(\"Can't initialize NVML\")\n",
      "/homefs/home/sorenst1/code/prescient/lobster_internal/.venv/lib/python3.12/site-packages/flash_attn/ops/triton/layer_norm.py:984: FutureWarning: `torch.cuda.amp.custom_fwd(args...)` is deprecated. Please use `torch.amp.custom_fwd(args..., device_type='cuda')` instead.\n",
      "  @custom_fwd\n",
      "/homefs/home/sorenst1/code/prescient/lobster_internal/.venv/lib/python3.12/site-packages/flash_attn/ops/triton/layer_norm.py:1043: FutureWarning: `torch.cuda.amp.custom_bwd(args...)` is deprecated. Please use `torch.amp.custom_bwd(args..., device_type='cuda')` instead.\n",
      "  @custom_bwd\n",
      "/homefs/home/sorenst1/code/prescient/lobster_internal/.venv/lib/python3.12/site-packages/torch/cuda/__init__.py:716: UserWarning: Can't initialize NVML\n",
      "  warnings.warn(\"Can't initialize NVML\")\n"
     ]
    }
   ],
   "source": [
    "from lobster.callbacks import CalmLinearProbeCallback"
   ]
  },
  {
   "cell_type": "code",
   "execution_count": null,
   "id": "99af54ca",
   "metadata": {},
   "outputs": [],
   "source": [
    "callback = CalmLinearProbeCallback(max_length=512)#, species=[\"hsapiens\", \"ecoli\", \"scerevisiae\"])"
   ]
  },
  {
   "cell_type": "code",
   "execution_count": null,
   "id": "af03c4db",
   "metadata": {},
   "outputs": [
    {
     "data": {
      "text/plain": [
       "{'function_bp',\n",
       " 'function_cc',\n",
       " 'function_mf',\n",
       " 'localization',\n",
       " 'meltome',\n",
       " 'protein_abundance',\n",
       " 'solubility',\n",
       " 'transcript_abundance'}"
      ]
     },
     "execution_count": 5,
     "metadata": {},
     "output_type": "execute_result"
    }
   ],
   "source": [
    "callback.tasks"
   ]
  },
  {
   "cell_type": "code",
   "execution_count": null,
   "id": "93400a87",
   "metadata": {},
   "outputs": [],
   "source": [
    "callback.species"
   ]
  },
  {
   "cell_type": "code",
   "execution_count": null,
   "id": "9ab3688f",
   "metadata": {},
   "outputs": [
    {
     "name": "stderr",
     "output_type": "stream",
     "text": [
      "/homefs/home/sorenst1/code/prescient/lobster_internal/.venv/lib/python3.12/site-packages/torch/cuda/__init__.py:829: UserWarning: Can't initialize NVML\n",
      "  warnings.warn(\"Can't initialize NVML\")\n",
      "/homefs/home/sorenst1/code/prescient/lobster_internal/.venv/lib/python3.12/site-packages/torch/cuda/__init__.py:829: UserWarning: Can't initialize NVML\n",
      "  warnings.warn(\"Can't initialize NVML\")\n"
     ]
    }
   ],
   "source": [
    "# model loading\n",
    "from lobster.model._utils_checkpoint import get_ume_checkpoints"
   ]
  },
  {
   "cell_type": "code",
   "execution_count": null,
   "id": "7059521b",
   "metadata": {},
   "outputs": [
    {
     "name": "stderr",
     "output_type": "stream",
     "text": [
      "2025-08-28 21:23:12,997 - botocore.credentials - INFO - Found credentials in shared credentials file: ~/.aws/credentials\n"
     ]
    },
    {
     "data": {
      "text/plain": [
       "{'ume-medium-base-480M': 's3://prescient-lobster/ume/runs/2025-06-12T16-47-59/epoch=0-step=39000-val_loss=0.5387.ckpt',\n",
       " 'ume-small-base-90M': 's3://prescient-lobster/ume/runs/2025-06-29T00-32-13/epoch=2-step=109000-val_loss=0.0000.ckpt',\n",
       " 'ume-mini-base-12M': 's3://prescient-lobster/ume/runs/2025-06-29T00-35-21/step-250000.ckpt',\n",
       " 'ume-large-base-870M': 's3://prescient-lobster/ume/runs/2025-08-12T13-34-55/epoch=1-step=112500-val_loss=0.9124.ckpt',\n",
       " 'ume-large-base-740M': 's3://prescient-lobster/ume/runs/2025-07-02T13-34-10/epoch=1-step=99500-val_loss=0.0024.ckpt'}"
      ]
     },
     "execution_count": 2,
     "metadata": {},
     "output_type": "execute_result"
    }
   ],
   "source": [
    "get_ume_checkpoints()"
   ]
  },
  {
   "cell_type": "code",
   "execution_count": null,
   "id": "668f3327",
   "metadata": {},
   "outputs": [],
   "source": []
  },
  {
   "cell_type": "code",
   "execution_count": null,
   "id": "21f11706",
   "metadata": {},
   "outputs": [
    {
     "data": {
      "text/html": [
       "<div>\n",
       "<style scoped>\n",
       "    .dataframe tbody tr th:only-of-type {\n",
       "        vertical-align: middle;\n",
       "    }\n",
       "\n",
       "    .dataframe tbody tr th {\n",
       "        vertical-align: top;\n",
       "    }\n",
       "\n",
       "    .dataframe thead th {\n",
       "        text-align: right;\n",
       "    }\n",
       "</style>\n",
       "<table border=\"1\" class=\"dataframe\">\n",
       "  <thead>\n",
       "    <tr style=\"text-align: right;\">\n",
       "      <th></th>\n",
       "      <th>dataset</th>\n",
       "      <th>n</th>\n",
       "      <th>mean</th>\n",
       "      <th>median</th>\n",
       "      <th>min</th>\n",
       "      <th>max</th>\n",
       "    </tr>\n",
       "  </thead>\n",
       "  <tbody>\n",
       "    <tr>\n",
       "      <th>0</th>\n",
       "      <td>function_bp</td>\n",
       "      <td>452</td>\n",
       "      <td>7338.661504</td>\n",
       "      <td>1872.5</td>\n",
       "      <td>327</td>\n",
       "      <td>246282</td>\n",
       "    </tr>\n",
       "    <tr>\n",
       "      <th>1</th>\n",
       "      <td>function_cc</td>\n",
       "      <td>562</td>\n",
       "      <td>5335.745552</td>\n",
       "      <td>2145.0</td>\n",
       "      <td>184</td>\n",
       "      <td>206310</td>\n",
       "    </tr>\n",
       "    <tr>\n",
       "      <th>2</th>\n",
       "      <td>function_mf</td>\n",
       "      <td>369</td>\n",
       "      <td>7972.073171</td>\n",
       "      <td>2566.0</td>\n",
       "      <td>102</td>\n",
       "      <td>209955</td>\n",
       "    </tr>\n",
       "    <tr>\n",
       "      <th>3</th>\n",
       "      <td>localization</td>\n",
       "      <td>5696</td>\n",
       "      <td>1405.479986</td>\n",
       "      <td>1122.0</td>\n",
       "      <td>72</td>\n",
       "      <td>14910</td>\n",
       "    </tr>\n",
       "    <tr>\n",
       "      <th>4</th>\n",
       "      <td>meltome</td>\n",
       "      <td>14772</td>\n",
       "      <td>1519.353371</td>\n",
       "      <td>1146.0</td>\n",
       "      <td>6</td>\n",
       "      <td>80781</td>\n",
       "    </tr>\n",
       "    <tr>\n",
       "      <th>5</th>\n",
       "      <td>protein_abundance_ecoli</td>\n",
       "      <td>3627</td>\n",
       "      <td>951.875103</td>\n",
       "      <td>840.0</td>\n",
       "      <td>126</td>\n",
       "      <td>7077</td>\n",
       "    </tr>\n",
       "    <tr>\n",
       "      <th>6</th>\n",
       "      <td>protein_abundance_hsapiens</td>\n",
       "      <td>11789</td>\n",
       "      <td>1654.004920</td>\n",
       "      <td>1263.0</td>\n",
       "      <td>156</td>\n",
       "      <td>16791</td>\n",
       "    </tr>\n",
       "    <tr>\n",
       "      <th>7</th>\n",
       "      <td>protein_abundance_scerevisiae</td>\n",
       "      <td>4937</td>\n",
       "      <td>1493.976301</td>\n",
       "      <td>1230.0</td>\n",
       "      <td>105</td>\n",
       "      <td>14733</td>\n",
       "    </tr>\n",
       "    <tr>\n",
       "      <th>8</th>\n",
       "      <td>solubility</td>\n",
       "      <td>5222</td>\n",
       "      <td>1688.710456</td>\n",
       "      <td>1302.0</td>\n",
       "      <td>135</td>\n",
       "      <td>16791</td>\n",
       "    </tr>\n",
       "    <tr>\n",
       "      <th>9</th>\n",
       "      <td>transcript_abundance_ecoli</td>\n",
       "      <td>3528</td>\n",
       "      <td>970.506803</td>\n",
       "      <td>858.0</td>\n",
       "      <td>117</td>\n",
       "      <td>7077</td>\n",
       "    </tr>\n",
       "    <tr>\n",
       "      <th>10</th>\n",
       "      <td>transcript_abundance_hsapiens</td>\n",
       "      <td>5484</td>\n",
       "      <td>1578.108315</td>\n",
       "      <td>1143.0</td>\n",
       "      <td>117</td>\n",
       "      <td>16941</td>\n",
       "    </tr>\n",
       "    <tr>\n",
       "      <th>11</th>\n",
       "      <td>transcript_abundance_scerevisiae</td>\n",
       "      <td>5448</td>\n",
       "      <td>1407.885463</td>\n",
       "      <td>1134.0</td>\n",
       "      <td>105</td>\n",
       "      <td>14733</td>\n",
       "    </tr>\n",
       "  </tbody>\n",
       "</table>\n",
       "</div>"
      ],
      "text/plain": [
       "                             dataset      n         mean  median  min     max\n",
       "0                        function_bp    452  7338.661504  1872.5  327  246282\n",
       "1                        function_cc    562  5335.745552  2145.0  184  206310\n",
       "2                        function_mf    369  7972.073171  2566.0  102  209955\n",
       "3                       localization   5696  1405.479986  1122.0   72   14910\n",
       "4                            meltome  14772  1519.353371  1146.0    6   80781\n",
       "5            protein_abundance_ecoli   3627   951.875103   840.0  126    7077\n",
       "6         protein_abundance_hsapiens  11789  1654.004920  1263.0  156   16791\n",
       "7      protein_abundance_scerevisiae   4937  1493.976301  1230.0  105   14733\n",
       "8                         solubility   5222  1688.710456  1302.0  135   16791\n",
       "9         transcript_abundance_ecoli   3528   970.506803   858.0  117    7077\n",
       "10     transcript_abundance_hsapiens   5484  1578.108315  1143.0  117   16941\n",
       "11  transcript_abundance_scerevisiae   5448  1407.885463  1134.0  105   14733"
      ]
     },
     "execution_count": 3,
     "metadata": {},
     "output_type": "execute_result"
    }
   ],
   "source": [
    "# Sequence length statistics by CALM dataset (using CalmPropertyDataset)\n",
    "from lobster.datasets import CalmPropertyDataset\n",
    "import pandas as pd\n",
    "\n",
    "# Tasks to summarize\n",
    "base_tasks = [\n",
    "    \"meltome\",\n",
    "    \"solubility\",\n",
    "    \"localization\",\n",
    "]\n",
    "species_tasks = {\n",
    "    \"protein_abundance\": [\"hsapiens\", \"ecoli\", \"scerevisiae\"],\n",
    "    \"transcript_abundance\": [\"hsapiens\", \"ecoli\", \"scerevisiae\"],\n",
    "}\n",
    "function_tasks = [\"function_bp\", \"function_cc\", \"function_mf\"]\n",
    "\n",
    "\n",
    "def summarize_lengths(ds: CalmPropertyDataset) -> dict:\n",
    "    input_col = ds.columns[0]\n",
    "    lengths = ds.data[input_col].astype(str).str.len()\n",
    "    return {\n",
    "        \"n\": int(len(lengths)),\n",
    "        \"mean\": float(lengths.mean()),\n",
    "        \"median\": float(lengths.median()),\n",
    "        \"min\": int(lengths.min()),\n",
    "        \"max\": int(lengths.max()),\n",
    "    }\n",
    "\n",
    "rows = []\n",
    "# Base tasks\n",
    "for t in base_tasks:\n",
    "    ds = CalmPropertyDataset(t)\n",
    "    stats = summarize_lengths(ds)\n",
    "    rows.append({\"dataset\": t, **stats})\n",
    "\n",
    "# Species-specific tasks\n",
    "for t, species_list in species_tasks.items():\n",
    "    for sp in species_list:\n",
    "        ds = CalmPropertyDataset(t, species=sp)\n",
    "        stats = summarize_lengths(ds)\n",
    "        rows.append({\"dataset\": f\"{t}_{sp}\", **stats})\n",
    "\n",
    "# Function tasks\n",
    "for t in function_tasks:\n",
    "    ds = CalmPropertyDataset(t)\n",
    "    stats = summarize_lengths(ds)\n",
    "    rows.append({\"dataset\": t, **stats})\n",
    "\n",
    "seq_len_df = pd.DataFrame(rows).sort_values(\"dataset\").reset_index(drop=True)\n",
    "seq_len_df\n"
   ]
  },
  {
   "cell_type": "code",
   "execution_count": null,
   "id": "42dbcf5b",
   "metadata": {},
   "outputs": [],
   "source": []
  }
 ],
 "metadata": {
  "kernelspec": {
   "display_name": ".venv",
   "language": "python",
   "name": "python3"
  },
  "language_info": {
   "codemirror_mode": {
    "name": "ipython",
    "version": 3
   },
   "file_extension": ".py",
   "mimetype": "text/x-python",
   "name": "python",
   "nbconvert_exporter": "python",
   "pygments_lexer": "ipython3",
   "version": "3.12.9"
  }
 },
 "nbformat": 4,
 "nbformat_minor": 5
}
