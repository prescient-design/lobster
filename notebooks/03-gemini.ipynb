{
 "cells": [
  {
   "cell_type": "markdown",
   "id": "a8fc3f9e-fdcb-45e1-a932-a62c7970f53b",
   "metadata": {},
   "source": [
    "# Lobster-Gemini tutorial notebook\n",
    "* Adapted from [here](https://code.roche.com/liny82/gemini_ranking_demo)"
   ]
  },
  {
   "cell_type": "code",
   "execution_count": null,
   "id": "e7b83516-46bd-43b3-8ed7-bdbd02c24d4e",
   "metadata": {},
   "outputs": [],
   "source": [
    "%load_ext autoreload\n",
    "%autoreload 2"
   ]
  },
  {
   "cell_type": "code",
   "execution_count": null,
   "id": "8caec0fe-eaf4-48cc-95ea-deb4b69e3278",
   "metadata": {},
   "outputs": [],
   "source": [
    "import torch\n",
    "import pandas as pd\n",
    "import numpy as np\n",
    "import os\n",
    "import math\n",
    "from math import sqrt\n",
    "import torch.nn.functional as F\n",
    "import lightning.pytorch as pl\n",
    "import matplotlib.pyplot as plt\n",
    "import seaborn as sns\n",
    "\n",
    "from lobster.data import GeminiDataFrameLightningDataModule\n",
    "from lobster.model import GeminiModel\n",
    "\n",
    "from torchvision.transforms import Resize\n",
    "\n",
    "device = 'cuda' if torch.cuda.is_available() else 'cpu'\n",
    "torch.backends.cuda.matmul.allow_tf32 = True\n",
    "device"
   ]
  },
  {
   "cell_type": "code",
   "execution_count": null,
   "id": "e9c119b5-d130-4ef3-bf7a-335b3723d9eb",
   "metadata": {},
   "outputs": [],
   "source": [
    "plt.rcParams[\"figure.figsize\"] = (4, 3)  # Set default figure size\n",
    "plt.rcParams[\"figure.dpi\"] = 150  # Set default figure dpi\n",
    "plt.rcParams[\"font.size\"] = 12  # Set default font size\n",
    "plt.rcParams[\"lines.linewidth\"] = 1.5  # Set default line width\n",
    "plt.rcParams[\"axes.linewidth\"] = 1.5  # Set default axes line width\n",
    "plt.rcParams[\"axes.grid\"] = True  # Show grid by default\n",
    "plt.rcParams[\"grid.linestyle\"] = \"--\"  # Set grid line style\n",
    "\n",
    "sns.set_style(\"ticks\")  # Set default seaborn style\n",
    "sns.set_palette(\"colorblind\")  # Set default color palette"
   ]
  },
  {
   "cell_type": "markdown",
   "id": "7cb99484-c7bb-43ae-afdd-a8f91e6ac41f",
   "metadata": {},
   "source": [
    "### Data prep\n",
    "* Read data with `fv_heavy`, `fv_light`, and `pKD` columns into a dataframe. Do whatever pre-processing and cleaning you'd like to do."
   ]
  },
  {
   "cell_type": "code",
   "execution_count": null,
   "id": "64e5d40e-28ba-4b38-907b-54270c48a8a1",
   "metadata": {},
   "outputs": [],
   "source": [
    "df_COSMO = pd.read_csv('s3://prescient-data-dev/sandbox/liny82/C1/262_cosmo_clean.csv')\n",
    "print(len(df_COSMO))\n",
    "df = df_COSMO.dropna(subset=['pKD'])\n",
    "print(len(df))\n",
    "\n",
    "FIT_QUALITY = 20. # 20 -> only keep very good quality sensograms. Change it to 1 to be closer to what scientists accept as a binder\n",
    "filter = (\n",
    "    (df.Rmax >= 20) \n",
    "    # & (df.Chi2 < df.Rmax/FIT_QUALITY) \n",
    "    & (1e-11 < df.kinetics_kd) \n",
    "    # & (df.kinetics_kd < 1e-4)\n",
    ")\n",
    "\n",
    "print(len(df[filter]))\n",
    "df = df[filter]"
   ]
  },
  {
   "cell_type": "markdown",
   "id": "f55f61c8-8c81-4ff4-a910-b51aaf7eae8d",
   "metadata": {},
   "source": [
    "### Instantiate a datamodule from the dataframe"
   ]
  },
  {
   "cell_type": "code",
   "execution_count": null,
   "id": "110f3b50-75e7-4888-b86f-bb3b43c83000",
   "metadata": {},
   "outputs": [],
   "source": [
    "dm = GeminiDataFrameLightningDataModule(data=df_COSMO,\n",
    "                                 batch_size=128)\n",
    "dm.setup()"
   ]
  },
  {
   "cell_type": "markdown",
   "id": "fde8f52b-48ac-455e-bafe-2c29c24bb7ca",
   "metadata": {},
   "source": [
    "### Instantiate a Gemini model with a pre-trained encoder"
   ]
  },
  {
   "cell_type": "code",
   "execution_count": null,
   "id": "ddcea65a-b3ed-4247-ba3e-53fda444a7d0",
   "metadata": {
    "jupyter": {
     "outputs_hidden": true
    },
    "tags": []
   },
   "outputs": [],
   "source": [
    "model = GeminiModel(model_name='esm2_t6_8M_UR50D');"
   ]
  },
  {
   "cell_type": "markdown",
   "id": "9f19fd88-b275-4c81-bc6c-203cec204726",
   "metadata": {},
   "source": [
    "### Train the model"
   ]
  },
  {
   "cell_type": "code",
   "execution_count": null,
   "id": "48a31a3e-3b52-4faa-b3c8-b2ca93106c43",
   "metadata": {
    "tags": []
   },
   "outputs": [],
   "source": [
    "trainer = pl.Trainer(accelerator=device,\n",
    "                     max_epochs=1,\n",
    "                    )"
   ]
  },
  {
   "cell_type": "code",
   "execution_count": null,
   "id": "96e611c0-4be7-4a76-90aa-12d50f4c4225",
   "metadata": {
    "tags": []
   },
   "outputs": [],
   "source": [
    "trainer.fit(model, datamodule=dm)"
   ]
  },
  {
   "cell_type": "markdown",
   "id": "0b1221e1-477e-4423-97c5-a55e4c3fc9fb",
   "metadata": {
    "tags": []
   },
   "source": [
    "### Inference"
   ]
  },
  {
   "cell_type": "code",
   "execution_count": null,
   "id": "4896da9e-7587-4e7c-a83b-5ae060e0614e",
   "metadata": {},
   "outputs": [],
   "source": [
    "dm.setup(stage='predict')"
   ]
  },
  {
   "cell_type": "code",
   "execution_count": null,
   "id": "43662a2a-a812-4d21-b75a-ce4e92a9e5f5",
   "metadata": {},
   "outputs": [],
   "source": [
    "preds = trainer.predict(model, datamodule=dm)"
   ]
  },
  {
   "cell_type": "code",
   "execution_count": null,
   "id": "3acf49cd-d520-4249-a675-9795b1edbaf8",
   "metadata": {},
   "outputs": [],
   "source": [
    "model.eval();\n",
    "predict_dataloader = dm.predict_dataloader()"
   ]
  },
  {
   "cell_type": "code",
   "execution_count": null,
   "id": "9128a8fb-cc8e-43f0-998a-f9e2c27b7535",
   "metadata": {},
   "outputs": [],
   "source": [
    "for idx, batch in enumerate(predict_dataloader):\n",
    "    with torch.inference_mode():\n",
    "        preds, targets = model.predict_step(batch, idx)\n",
    "        break"
   ]
  },
  {
   "cell_type": "code",
   "execution_count": null,
   "id": "1ae11fcd-a25e-4e02-b8e4-553770ca6cea",
   "metadata": {},
   "outputs": [],
   "source": [
    "scale= np.linspace(-3, 3 ,100)\n",
    "\n",
    "plt.figure(figsize=(3,3))        \n",
    "sns.scatterplot(x=targets, y=preds, s = 2)\n",
    "plt.plot(scale, scale, \"r\")\n",
    "plt.title(\"delta pKD\")\n",
    "plt.xlim(-3, 3)\n",
    "plt.ylim(-3, 3)\n",
    "plt.xlabel(\"delta pKD (ground truth)\")\n",
    "plt.ylabel(\"Gemini output [delta pKD]\")\n",
    "plt.show()"
   ]
  },
  {
   "cell_type": "code",
   "execution_count": null,
   "id": "c8a5b2be-ff4c-4932-bfb2-438d90908714",
   "metadata": {},
   "outputs": [],
   "source": []
  }
 ],
 "metadata": {
  "kernelspec": {
   "display_name": "lobster",
   "language": "python",
   "name": "lobster"
  },
  "language_info": {
   "codemirror_mode": {
    "name": "ipython",
    "version": 3
   },
   "file_extension": ".py",
   "mimetype": "text/x-python",
   "name": "python",
   "nbconvert_exporter": "python",
   "pygments_lexer": "ipython3",
   "version": "3.10.13"
  }
 },
 "nbformat": 4,
 "nbformat_minor": 5
}
