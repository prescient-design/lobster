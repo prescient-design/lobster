{
 "cells": [
  {
   "cell_type": "code",
   "execution_count": 2,
   "metadata": {},
   "outputs": [],
   "source": [
    "%load_ext autoreload\n",
    "%autoreload 2"
   ]
  },
  {
   "cell_type": "code",
   "execution_count": 3,
   "metadata": {},
   "outputs": [
    {
     "ename": "ImportError",
     "evalue": "cannot import name 'ModelType' from 'lobster.constants._architecture_analyzer' (/Users/zadorozk/Desktop/code/lobster/src/lobster/constants/_architecture_analyzer.py)",
     "output_type": "error",
     "traceback": [
      "\u001b[0;31m---------------------------------------------------------------------------\u001b[0m",
      "\u001b[0;31mImportError\u001b[0m                               Traceback (most recent call last)",
      "Cell \u001b[0;32mIn[3], line 1\u001b[0m\n\u001b[0;32m----> 1\u001b[0m \u001b[38;5;28;01mfrom\u001b[39;00m\u001b[38;5;250m \u001b[39m\u001b[38;5;21;01mlobster\u001b[39;00m\u001b[38;5;21;01m.\u001b[39;00m\u001b[38;5;21;01mmodel\u001b[39;00m\u001b[38;5;21;01m.\u001b[39;00m\u001b[38;5;21;01mutils\u001b[39;00m\u001b[38;5;250m \u001b[39m\u001b[38;5;28;01mimport\u001b[39;00m Architecture, ArchitectureAnalyzer, GPUType, ModelType\n\u001b[1;32m      3\u001b[0m architecture \u001b[38;5;241m=\u001b[39m Architecture(\n\u001b[1;32m      4\u001b[0m     hidden_size\u001b[38;5;241m=\u001b[39m\u001b[38;5;241m2560\u001b[39m,\n\u001b[1;32m      5\u001b[0m     num_attention_heads\u001b[38;5;241m=\u001b[39m\u001b[38;5;241m32\u001b[39m, \n\u001b[0;32m   (...)\u001b[0m\n\u001b[1;32m      8\u001b[0m     model_type\u001b[38;5;241m=\u001b[39mModelType\u001b[38;5;241m.\u001b[39mDECODER_ONLY\n\u001b[1;32m      9\u001b[0m )\n\u001b[1;32m     10\u001b[0m analyzer \u001b[38;5;241m=\u001b[39m ArchitectureAnalyzer(architecture, gpu_type \u001b[38;5;241m=\u001b[39m GPUType\u001b[38;5;241m.\u001b[39mA100)\n",
      "File \u001b[0;32m~/Desktop/code/lobster/src/lobster/model/utils/__init__.py:1\u001b[0m\n\u001b[0;32m----> 1\u001b[0m \u001b[38;5;28;01mfrom\u001b[39;00m\u001b[38;5;250m \u001b[39m\u001b[38;5;21;01m.\u001b[39;00m\u001b[38;5;21;01m_architecture_analyzer\u001b[39;00m\u001b[38;5;250m \u001b[39m\u001b[38;5;28;01mimport\u001b[39;00m Architecture, ArchitectureAnalyzer, GPUType, ModelType\n\u001b[1;32m      3\u001b[0m __all__ \u001b[38;5;241m=\u001b[39m [Architecture, ArchitectureAnalyzer, GPUType, ModelType]\n",
      "File \u001b[0;32m~/Desktop/code/lobster/src/lobster/model/utils/_architecture_analyzer.py:5\u001b[0m\n\u001b[1;32m      2\u001b[0m \u001b[38;5;28;01mfrom\u001b[39;00m\u001b[38;5;250m \u001b[39m\u001b[38;5;21;01mdataclasses\u001b[39;00m\u001b[38;5;250m \u001b[39m\u001b[38;5;28;01mimport\u001b[39;00m dataclass\n\u001b[1;32m      3\u001b[0m \u001b[38;5;28;01mfrom\u001b[39;00m\u001b[38;5;250m \u001b[39m\u001b[38;5;21;01mtyping\u001b[39;00m\u001b[38;5;250m \u001b[39m\u001b[38;5;28;01mimport\u001b[39;00m Dict\n\u001b[0;32m----> 5\u001b[0m \u001b[38;5;28;01mfrom\u001b[39;00m\u001b[38;5;250m \u001b[39m\u001b[38;5;21;01mlobster\u001b[39;00m\u001b[38;5;21;01m.\u001b[39;00m\u001b[38;5;21;01mconstants\u001b[39;00m\u001b[38;5;250m \u001b[39m\u001b[38;5;28;01mimport\u001b[39;00m ModelType, GPUType\n\u001b[1;32m      8\u001b[0m \u001b[38;5;129m@dataclass\u001b[39m\n\u001b[1;32m      9\u001b[0m \u001b[38;5;28;01mclass\u001b[39;00m\u001b[38;5;250m \u001b[39m\u001b[38;5;21;01mArchitecture\u001b[39;00m:\n\u001b[1;32m     10\u001b[0m \u001b[38;5;250m    \u001b[39m\u001b[38;5;124;03m\"\"\"Configuration for a transformer model.\"\"\"\u001b[39;00m\n",
      "File \u001b[0;32m~/Desktop/code/lobster/src/lobster/constants/__init__.py:6\u001b[0m\n\u001b[1;32m      4\u001b[0m \u001b[38;5;28;01mfrom\u001b[39;00m\u001b[38;5;250m \u001b[39m\u001b[38;5;21;01m.\u001b[39;00m\u001b[38;5;21;01m_split\u001b[39;00m\u001b[38;5;250m \u001b[39m\u001b[38;5;28;01mimport\u001b[39;00m Split\n\u001b[1;32m      5\u001b[0m \u001b[38;5;28;01mfrom\u001b[39;00m\u001b[38;5;250m \u001b[39m\u001b[38;5;21;01m.\u001b[39;00m\u001b[38;5;21;01m_weighted_concat_sampler_chunk_size\u001b[39;00m\u001b[38;5;250m \u001b[39m\u001b[38;5;28;01mimport\u001b[39;00m WEIGHTED_CONCAT_SAMPLER_CHUNK_SIZE\n\u001b[0;32m----> 6\u001b[0m \u001b[38;5;28;01mfrom\u001b[39;00m\u001b[38;5;250m \u001b[39m\u001b[38;5;21;01m.\u001b[39;00m\u001b[38;5;21;01m_architecture_analyzer\u001b[39;00m\u001b[38;5;250m \u001b[39m\u001b[38;5;28;01mimport\u001b[39;00m GPUType, ModelType\n\u001b[1;32m      8\u001b[0m __all__ \u001b[38;5;241m=\u001b[39m [\n\u001b[1;32m      9\u001b[0m     \u001b[38;5;124m\"\u001b[39m\u001b[38;5;124mModality\u001b[39m\u001b[38;5;124m\"\u001b[39m,\n\u001b[1;32m     10\u001b[0m     \u001b[38;5;124m\"\u001b[39m\u001b[38;5;124mWEIGHTED_CONCAT_SAMPLER_CHUNK_SIZE\u001b[39m\u001b[38;5;124m\"\u001b[39m,\n\u001b[0;32m   (...)\u001b[0m\n\u001b[1;32m     18\u001b[0m     \u001b[38;5;124m\"\u001b[39m\u001b[38;5;124mModelType\u001b[39m\u001b[38;5;124m\"\u001b[39m,\n\u001b[1;32m     19\u001b[0m ]\n",
      "\u001b[0;31mImportError\u001b[0m: cannot import name 'ModelType' from 'lobster.constants._architecture_analyzer' (/Users/zadorozk/Desktop/code/lobster/src/lobster/constants/_architecture_analyzer.py)"
     ]
    }
   ],
   "source": [
    "from lobster.model.utils import Architecture, ArchitectureAnalyzer, GPUType, ModelType\n",
    "\n",
    "architecture = Architecture(\n",
    "    hidden_size=2560,\n",
    "    num_attention_heads=32, \n",
    "    num_hidden_layers=32,\n",
    "    vocab_size=50257,\n",
    "    model_type=ModelType.DECODER_ONLY\n",
    ")\n",
    "analyzer = ArchitectureAnalyzer(architecture, gpu_type = GPUType.A100)\n",
    "\n",
    "result = analyzer.analyze()"
   ]
  }
 ],
 "metadata": {
  "language_info": {
   "name": "python"
  }
 },
 "nbformat": 4,
 "nbformat_minor": 2
}
