{
 "cells": [
  {
   "cell_type": "code",
   "execution_count": null,
   "metadata": {},
   "outputs": [],
   "source": [
    "import pandas as pd\n",
    "from lobster.model._utils import model_typer\n",
    "from lobster.model import LobsterPCLM\n",
    "from typing import List, Optional, Union, Tuple, Literal\n",
    "from lobster.transforms.functional import GraftGermline\n",
    "from lobster.tokenization import PmlmTokenizerTransform\n",
    "import importlib\n",
    "\n",
    "\n",
    "import pandas as pd\n",
    "from lobster.model._utils import model_typer\n",
    "from typing import Literal\n",
    "from lobster.data import DataFrameDatasetInMemory\n",
    "from torch.utils.data import DataLoader\n",
    "from prescient.metrics.functional import naturalness\n",
    "\n",
    "import torch\n",
    "# import Levenshtein\n",
    "import seaborn as sns\n",
    "import matplotlib.pyplot as plt\n",
    "import os\n",
    "\n",
    "def get_lobster_model(                    \n",
    "                    model_name: str = None,\n",
    "                    ckpt_path: str = None,\n",
    "                    model_type: Literal[\"LobsterPMLM\", \"LobsterPCLM\"] = \"LobsterPCLM\",\n",
    "                    ):\n",
    "    model_cls = model_typer[model_type]\n",
    "    if model_name is not None:\n",
    "        model = model_cls(\n",
    "                model_name=model_name,\n",
    "            )  # load a specific model, e.g. ESM2-8M\n",
    "    if ckpt_path is not None:\n",
    "        model = model_cls.load_from_checkpoint(\n",
    "                ckpt_path,\n",
    "                strict=False\n",
    "            )  # load specific pre-trained chkpt\n",
    "    model.eval()\n",
    "    return model\n",
    "\n",
    "def preprocess_df(df: pd.DataFrame) -> (pd.DataFrame, pd.DataFrame):\n",
    "    print(\"Preprocessing dataframe\")\n",
    "    df[\"fv_heavy\"] = df[\"fv_heavy_aho\"].apply(lambda x: x.replace(\"-\", \"\"))\n",
    "    df[\"fv_light\"] = df[\"fv_light_aho\"].apply(lambda x: x.replace(\"-\", \"\"))\n",
    "\n",
    "    unique_fv_heavy_grafts = df.drop_duplicates(subset=\"fv_heavy\")\n",
    "    unique_fv_heavy_grafts = pd.concat([unique_fv_heavy_grafts.filter(like=\"heavy\"), unique_fv_heavy_grafts.filter(like=\"H\")], axis=1)\n",
    "    unique_fv_heavy_grafts[\"chain\"] = \"heavy\"\n",
    "    \n",
    "    unique_fv_light_grafts = df.drop_duplicates(subset=\"fv_light\")\n",
    "    unique_fv_light_grafts = pd.concat([unique_fv_light_grafts.filter(like=\"light\"), unique_fv_light_grafts.filter(like=\"L\")], axis=1)\n",
    "    unique_fv_light_grafts[\"chain\"] = \"light\"\n",
    "    \n",
    "    return unique_fv_heavy_grafts, unique_fv_light_grafts\n",
    "\n",
    "def get_pclm_likelihoods(model_name, ckpt_path, unique_fv_heavy_grafts: pd.DataFrame, unique_fv_light_grafts: pd.DataFrame) -> (pd.DataFrame, pd.DataFrame):\n",
    "\n",
    "    pclm = get_lobster_model(model_name=None, ckpt_path=ckpt_path, model_type=\"LobsterPCLM\")\n",
    "\n",
    "    unique_fv_heavy_grafts_dataset = DataFrameDatasetInMemory(unique_fv_heavy_grafts, transform_fn=pclm._transform_fn, columns=[\"fv_heavy\"])\n",
    "    unique_fv_light_grafts_dataset = DataFrameDatasetInMemory(unique_fv_light_grafts, transform_fn=pclm._transform_fn, columns=[\"fv_light\"])\n",
    "\n",
    "    fv_heavy_batch_likelihoods = []\n",
    "    fv_light_batch_likelihoods = []\n",
    "\n",
    "    for batch in DataLoader(unique_fv_heavy_grafts_dataset, batch_size=64, shuffle=False):\n",
    "        fv_heavy_batch_likelihoods.extend(pclm.batch_to_log_likelihoods(batch).to('cpu'))\n",
    "\n",
    "    for batch in DataLoader(unique_fv_light_grafts_dataset, batch_size=64, shuffle=False):\n",
    "        fv_light_batch_likelihoods.extend(pclm.batch_to_log_likelihoods(batch).to('cpu'))\n",
    "        \n",
    "    fv_heavy_batch_likelihoods = torch.stack(fv_heavy_batch_likelihoods)\n",
    "    fv_light_batch_likelihoods = torch.stack(fv_light_batch_likelihoods)\n",
    "\n",
    "    unique_fv_heavy_grafts[f\"{model_name}_fv_heavy_likelihood\"] = fv_heavy_batch_likelihoods\n",
    "    unique_fv_light_grafts[f\"{model_name}_fv_light_likelihood\"] = fv_light_batch_likelihoods\n",
    "    \n",
    "    return unique_fv_heavy_grafts, unique_fv_light_grafts\n",
    "\n",
    "def get_pmlm_likelihoods(\n",
    "                    unique_fv_heavy_grafts: pd.DataFrame, \n",
    "                    unique_fv_light_grafts: pd.DataFrame, \n",
    "                    ) -> (pd.DataFrame, pd.DataFrame):\n",
    "                    \n",
    "    unique_fv_heavy_grafts[\"antiberty_fv_heavy_naturalness\"] = naturalness(unique_fv_heavy_grafts[\"fv_heavy\"].tolist())\n",
    "    unique_fv_light_grafts[\"antiberty_fv_light_naturalness\"] = naturalness(unique_fv_light_grafts[\"fv_light\"].tolist())\n",
    "\n",
    "    model_name = \"esm2_t6_8M_UR50D\"\n",
    "    pmlm = get_lobster_model(model_name=model_name, ckpt_path=None, model_type=\"LobsterPMLM\")\n",
    "    unique_fv_heavy_grafts[f\"{model_name}_fv_heavy_naturalness\"] = pmlm.naturalness(unique_fv_heavy_grafts[\"fv_heavy\"].tolist())\n",
    "    unique_fv_light_grafts[f\"{model_name}_fv_light_naturalness\"] = pmlm.naturalness(unique_fv_light_grafts[\"fv_light\"].tolist())\n",
    "\n",
    "    return unique_fv_heavy_grafts, unique_fv_light_grafts\n",
    "\n",
    "def score_grafts(seed_id: str, df: pd.DataFrame, seeds_df: pd.DataFrame, out_root_dir: None):\n",
    "    unique_fv_heavy_grafts, unique_fv_light_grafts = preprocess_df(df)\n",
    "    fv_heavy_seed = seeds_df[seeds_df[\"seed_id\"] == seed_id].fv_heavy.values[0]\n",
    "    fv_light_seed = seeds_df[seeds_df[\"seed_id\"] == seed_id].fv_light.values[0]\n",
    "    unique_fv_heavy_grafts[\"ed_seed_fv_heavy\"] = unique_fv_heavy_grafts[\"fv_heavy\"].apply(lambda x: Levenshtein.distance(x, fv_heavy_seed))\n",
    "    unique_fv_light_grafts[\"ed_seed_fv_light\"] = unique_fv_light_grafts[\"fv_light\"].apply(lambda x: Levenshtein.distance(x, fv_light_seed))\n",
    "\n",
    "    print(\"Computing pCLM likelihoods\")\n",
    "    model_name = \"clm_11M_uniref50\"\n",
    "    ckpt_path = f\"s3://prescient-data-dev/sandbox/freyn6/models/prod/lobster/clm/{model_name}.ckpt\"\n",
    "    unique_fv_heavy_grafts, unique_fv_light_grafts = get_pclm_likelihoods(model_name, ckpt_path, unique_fv_heavy_grafts, unique_fv_light_grafts)\n",
    "\n",
    "    model_name = \"clm_11M_uniref50_oas_pdb\"\n",
    "    ckpt_path = f\"s3://prescient-data-dev/sandbox/freyn6/models/prod/lobster/clm/{model_name}.ckpt\"\n",
    "    unique_fv_heavy_grafts, unique_fv_light_grafts = get_pclm_likelihoods(model_name, ckpt_path, unique_fv_heavy_grafts, unique_fv_light_grafts)\n",
    "    print(\"Computing pMLM likelihoods\")\n",
    "    unique_fv_heavy_grafts, unique_fv_light_grafts = get_pmlm_likelihoods(unique_fv_heavy_grafts, unique_fv_light_grafts)\n",
    "    \n",
    "    if out_root_dir is not None:\n",
    "        outpath = f\"{out_root_dir}/{seed_id}\"\n",
    "        os.makedirs(outpath, exist_ok=True)\n",
    "        unique_fv_heavy_grafts.to_csv(f\"{outpath}/{seed_id}_unique_fv_heavy_grafts_pCLM_scored.csv\", index=False)\n",
    "        unique_fv_light_grafts.to_csv(f\"{outpath}/{seed_id}_unique_fv_light_grafts_pCLM_scored.csv\", index=False)\n",
    "        \n",
    "    return unique_fv_heavy_grafts, unique_fv_light_grafts\n",
    "\n",
    "path = importlib.resources.files(\"lobster\") / \"assets\" / \"pmlm_tokenizer\"\n",
    "\n",
    "tokenization_transform = PmlmTokenizerTransform(\n",
    "                                                path,\n",
    "                                                padding=\"max_length\",\n",
    "                                                truncation=True,\n",
    "                                                max_length=512,\n",
    "                                                mlm=True,\n",
    "                                            )\n"
   ]
  },
  {
   "cell_type": "code",
   "execution_count": null,
   "metadata": {},
   "outputs": [],
   "source": [
    "%timeit\n",
    "germline_df = pd.read_pickle(\"s3://prescient-data-dev/sandbox/wanga84/humanization/preferred_absolve_germlines_aho_tokenized.pkl\")"
   ]
  },
  {
   "cell_type": "code",
   "execution_count": null,
   "metadata": {
    "jupyter": {
     "outputs_hidden": true
    },
    "tags": []
   },
   "outputs": [],
   "source": [
    "germline_df['fv_heavy_aho_tok'].iloc[0]"
   ]
  },
  {
   "cell_type": "code",
   "execution_count": null,
   "metadata": {
    "jupyter": {
     "outputs_hidden": true
    },
    "tags": []
   },
   "outputs": [],
   "source": [
    "germline_df.to_parquet('s3://prescient-data-dev/sandbox/freyn6/humanization/preferred_absolve_germlines_aho_tokenized.parquet')"
   ]
  },
  {
   "cell_type": "code",
   "execution_count": null,
   "metadata": {
    "jupyter": {
     "outputs_hidden": true
    },
    "tags": []
   },
   "outputs": [],
   "source": [
    "germline_df.head()"
   ]
  },
  {
   "cell_type": "code",
   "execution_count": null,
   "metadata": {
    "jupyter": {
     "outputs_hidden": true
    },
    "tags": []
   },
   "outputs": [],
   "source": [
    "model = LobsterPCLM(model_name='CLM_mini')\n",
    "model.eval();"
   ]
  },
  {
   "cell_type": "code",
   "execution_count": null,
   "metadata": {},
   "outputs": [],
   "source": [
    "model._transform_fn(germline_df['fv_heavy_aho'].tolist()[:5])[0]['input_ids'].squeeze().shape"
   ]
  },
  {
   "cell_type": "code",
   "execution_count": null,
   "metadata": {
    "jupyter": {
     "outputs_hidden": true
    },
    "tags": []
   },
   "outputs": [],
   "source": [
    "germline_df['fv_heavy_aho'].tolist()"
   ]
  },
  {
   "cell_type": "markdown",
   "metadata": {
    "jupyter": {
     "source_hidden": true
    },
    "tags": []
   },
   "source": [
    "### Prepare seed sequence\n"
   ]
  },
  {
   "cell_type": "code",
   "execution_count": null,
   "metadata": {},
   "outputs": [],
   "source": [
    "seeds_df = pd.read_csv('s3://prescient-data-dev/sequences/accepted_seeds.csv')\n",
    "to_graft = seeds_df[seeds_df[\"seed_id\"] == \"C1S-262\"]\n",
    "fv_heavy_aho, fv_light_aho = to_graft[\"fv_heavy_aho\"].values[0], to_graft[\"fv_light_aho\"].values[0]"
   ]
  },
  {
   "cell_type": "markdown",
   "metadata": {},
   "source": [
    "### Graft germlines"
   ]
  },
  {
   "cell_type": "code",
   "execution_count": null,
   "metadata": {},
   "outputs": [],
   "source": [
    "graft_germlines = GraftGermline(germline_df, tokenization_transform)\n",
    "grafted_df, _, _ = graft_germlines.graft(fv_heavy_aho, fv_light_aho)\n",
    "\n",
    "graft_germlines_const_vernier = GraftGermline(germline_df, tokenization_transform, keep_vernier_from_animal=\"rabbit\")\n",
    "grafted_df_const_vernier, _, _ = graft_germlines_const_vernier.graft(fv_heavy_aho, fv_light_aho)\n",
    "\n",
    "grafts = pd.concat([grafted_df, grafted_df_const_vernier])"
   ]
  },
  {
   "cell_type": "markdown",
   "metadata": {},
   "source": [
    "### Score grafts"
   ]
  },
  {
   "cell_type": "code",
   "execution_count": null,
   "metadata": {},
   "outputs": [],
   "source": [
    "unique_fv_heavy_grafts, unique_fv_light_grafts = score_grafts(seed_id=\"C1S-262\", df=grafts, seeds_df=seeds_df, out_root_dir=\"../data/\")"
   ]
  },
  {
   "cell_type": "code",
   "execution_count": null,
   "metadata": {},
   "outputs": [],
   "source": [
    "fig, ax = plt.subplots(2, 2, figsize=(10, 8))\n",
    "sns.scatterplot(data=unique_fv_heavy_grafts, x=\"clm_11M_uniref50_fv_heavy_likelihood\", y=\"clm_11M_uniref50_oas_pdb_fv_heavy_likelihood\", hue=\"ed_seed_fv_heavy\", ax=ax[0, 0], palette=\"Blues_r\")\n",
    "sns.scatterplot(data=unique_fv_light_grafts, x=\"clm_11M_uniref50_fv_light_likelihood\", y=\"clm_11M_uniref50_oas_pdb_fv_light_likelihood\", hue=\"ed_seed_fv_light\", ax=ax[0, 1], palette=\"Blues_r\")\n",
    "ax[0, 0].legend(loc='upper left', bbox_to_anchor=(1, 1))\n",
    "ax[0, 1].legend(loc='upper left', bbox_to_anchor=(1, 1))\n",
    "\n",
    "sns.scatterplot(data=unique_fv_heavy_grafts, x=\"antiberty_fv_heavy_naturalness\", y=\"esm2_t6_8M_UR50D_fv_heavy_naturalness\", hue=\"ed_seed_fv_heavy\", ax=ax[1, 0], palette=\"Blues_r\")\n",
    "sns.scatterplot(data=unique_fv_light_grafts, x=\"antiberty_fv_light_naturalness\", y=\"esm2_t6_8M_UR50D_fv_light_naturalness\", hue=\"ed_seed_fv_light\", ax=ax[1, 1], palette=\"Blues_r\")\n",
    "ax[1, 0].legend(loc='upper left', bbox_to_anchor=(1, 1))\n",
    "ax[1,1 ].legend(loc='upper left', bbox_to_anchor=(1, 1))\n",
    "\n",
    "fig.subplots_adjust(wspace=0.5)\n",
    "fig.suptitle(\"C1S-262\", fontsize=16)\n"
   ]
  }
 ],
 "metadata": {
  "kernelspec": {
   "display_name": "lobster",
   "language": "python",
   "name": "lobster"
  },
  "language_info": {
   "codemirror_mode": {
    "name": "ipython",
    "version": 3
   },
   "file_extension": ".py",
   "mimetype": "text/x-python",
   "name": "python",
   "nbconvert_exporter": "python",
   "pygments_lexer": "ipython3",
   "version": "3.10.13"
  }
 },
 "nbformat": 4,
 "nbformat_minor": 4
}
