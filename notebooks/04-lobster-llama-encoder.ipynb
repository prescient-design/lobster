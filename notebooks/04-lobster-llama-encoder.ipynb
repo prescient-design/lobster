{
 "cells": [
  {
   "cell_type": "code",
   "execution_count": null,
   "id": "2bd930ad-d588-44c3-bdc6-bbab6cdea246",
   "metadata": {},
   "outputs": [],
   "source": [
    "%load_ext autoreload\n",
    "%autoreload 2"
   ]
  },
  {
   "cell_type": "code",
   "execution_count": null,
   "id": "82fcb1d0-0f40-4a11-baf3-f931dc89024d",
   "metadata": {},
   "outputs": [],
   "source": [
    "import torch\n",
    "from lobster.model import LobsterPCLM\n",
    "from lobster.model.llama_base._llama_encoder import LlamaEncoderModel\n",
    "\n",
    "from transformers.models.llama.modeling_llama import LlamaConfig\n",
    "\n",
    "import peft"
   ]
  },
  {
   "cell_type": "code",
   "execution_count": null,
   "id": "decd9db7-f50d-4867-a840-b7b3bfaa1f90",
   "metadata": {},
   "outputs": [],
   "source": [
    "clm = LobsterPCLM(model_name='CLM_24M')"
   ]
  },
  {
   "cell_type": "code",
   "execution_count": null,
   "id": "11f8a9bb-f172-45bb-b2da-db6121143354",
   "metadata": {},
   "outputs": [],
   "source": [
    "clm.model.save_pretrained('clm_mini')"
   ]
  },
  {
   "cell_type": "code",
   "execution_count": null,
   "id": "20494b3c-1256-4721-a7a1-32abb797d5c9",
   "metadata": {},
   "outputs": [],
   "source": [
    "clm.num_trainable_parameters"
   ]
  },
  {
   "cell_type": "code",
   "execution_count": null,
   "id": "31d9769e-cec1-449d-af47-849ebb5dd97f",
   "metadata": {},
   "outputs": [],
   "source": [
    "c = LlamaConfig()"
   ]
  },
  {
   "cell_type": "code",
   "execution_count": null,
   "id": "242e683f-2f80-4340-9ce6-f8c0bd2e3af3",
   "metadata": {},
   "outputs": [],
   "source": [
    "m = LlamaEncoderModel.from_pretrained('clm_mini')"
   ]
  },
  {
   "cell_type": "code",
   "execution_count": null,
   "id": "10ede870-5844-402b-b45a-52836bef75df",
   "metadata": {},
   "outputs": [],
   "source": [
    "m.num_parameters()"
   ]
  },
  {
   "cell_type": "code",
   "execution_count": null,
   "id": "428dc894-f7a1-4540-8052-40fcaf2b8378",
   "metadata": {},
   "outputs": [],
   "source": [
    "fv_light = 'DIQMTQSPSSLSASVGDRVTITCRASQGIRNCLAWYQQKPGKAPKLLIYAASSLQSGVPSRFSGSGSGTDFTLNGSSLQPEDFATYYCQQYNIYPLTFGQGTKVEIK'"
   ]
  },
  {
   "cell_type": "code",
   "execution_count": null,
   "id": "f3dbaaeb-c186-4a66-8a53-71e1038ad7a6",
   "metadata": {},
   "outputs": [],
   "source": [
    "input_ids = torch.tensor([clm.tokenizer.encode(list(fv_light))])"
   ]
  },
  {
   "cell_type": "code",
   "execution_count": null,
   "id": "e52bd93b-94a4-46d1-8170-d56232ba2a0b",
   "metadata": {},
   "outputs": [],
   "source": [
    "output = m.forward(input_ids=input_ids,\n",
    "                  output_hidden_states=True)"
   ]
  },
  {
   "cell_type": "code",
   "execution_count": null,
   "id": "5322eadb-7d55-43cf-b63c-1617ddcab4ef",
   "metadata": {},
   "outputs": [],
   "source": [
    "output.hidden_states[-1].shape"
   ]
  },
  {
   "cell_type": "code",
   "execution_count": null,
   "id": "39239c41-c2da-40b9-8d53-e71b2b594ffc",
   "metadata": {},
   "outputs": [],
   "source": [
    "peft.TaskType."
   ]
  },
  {
   "cell_type": "code",
   "execution_count": null,
   "id": "b4a4e9c9-9de2-4ecf-bace-da2904ca9ed1",
   "metadata": {},
   "outputs": [],
   "source": [
    "peft_config = peft.LoraConfig(peft_type=\"LORA\",\n",
    "                              inference_mode=False,\n",
    "                              r=16,  # dim of low rank matrices\n",
    "                              lora_alpha=32,\n",
    "                              lora_dropout=0.05,\n",
    "                             target_modules= [\n",
    "    \"down_proj\",\n",
    "    \"gate_proj\",\n",
    "    \"q_proj\",\n",
    "    \"o_proj\",\n",
    "    \"up_proj\",\n",
    "    \"v_proj\",\n",
    "    \"k_proj\"\n",
    "  ],)"
   ]
  },
  {
   "cell_type": "code",
   "execution_count": null,
   "id": "4f18083d-ee93-4f9b-afea-06f187cf5ffe",
   "metadata": {},
   "outputs": [],
   "source": [
    "peft_model = peft.PeftModel(m, peft_config)"
   ]
  },
  {
   "cell_type": "code",
   "execution_count": null,
   "id": "2965198f-0b52-405d-ab12-56fa17a4c049",
   "metadata": {},
   "outputs": [],
   "source": [
    "peft_model.print_trainable_parameters()"
   ]
  },
  {
   "cell_type": "code",
   "execution_count": null,
   "id": "85cf58d5-5bd6-43ce-b2b0-c8871a039316",
   "metadata": {},
   "outputs": [],
   "source": []
  }
 ],
 "metadata": {
  "kernelspec": {
   "display_name": "lobster",
   "language": "python",
   "name": "lobster"
  },
  "language_info": {
   "codemirror_mode": {
    "name": "ipython",
    "version": 3
   },
   "file_extension": ".py",
   "mimetype": "text/x-python",
   "name": "python",
   "nbconvert_exporter": "python",
   "pygments_lexer": "ipython3",
   "version": "3.10.13"
  }
 },
 "nbformat": 4,
 "nbformat_minor": 5
}
