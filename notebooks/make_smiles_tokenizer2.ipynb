{
 "cells": [
  {
   "cell_type": "code",
   "execution_count": 7,
   "id": "99e5c1db-9441-4b40-8567-d50f14b1822b",
   "metadata": {},
   "outputs": [
    {
     "name": "stdout",
     "output_type": "stream",
     "text": [
      "The autoreload extension is already loaded. To reload it, use:\n",
      "  %reload_ext autoreload\n"
     ]
    }
   ],
   "source": [
    "%load_ext autoreload\n",
    "%autoreload 2\n",
    "import importlib.resources\n",
    "from pathlib import Path\n",
    "from tokenizers import Regex\n",
    "from tokenizers.models import WordLevel\n",
    "from tokenizers.pre_tokenizers import Split\n",
    "from tokenizers.processors import TemplateProcessing\n",
    "from transformers import PreTrainedTokenizerFast\n",
    "\n",
    "#from ._load_vocab_file import load_vocab_file\n",
    "#from ._make_pretrained_tokenizer_fast import make_pretrained_tokenizer_fast\n",
    "from lobster.tokenization._smiles_tokenizer2 import SmilesTokenizer2Fast, _make_smiles_tokenizer2"
   ]
  },
  {
   "cell_type": "code",
   "execution_count": 5,
   "id": "6fcc30cf-a934-4392-a0d4-b2705f9cd3bf",
   "metadata": {},
   "outputs": [],
   "source": [
    "PRETRAINED_TOKENIZER_PATH = importlib.resources.files(\"lobster\") / \"assets\" / \"smiles_tokenizer2\"\n",
    "VOCAB_PATH = PRETRAINED_TOKENIZER_PATH / \"vocab.txt\""
   ]
  },
  {
   "cell_type": "code",
   "execution_count": 11,
   "id": "6c46cc92-d0dc-4945-9168-bfc6ab819c19",
   "metadata": {},
   "outputs": [
    {
     "name": "stdout",
     "output_type": "stream",
     "text": [
      "/homefs/home/lawrenh6/lobster/src/lobster/assets/smiles_tokenizer2\n"
     ]
    }
   ],
   "source": [
    "print(PRETRAINED_TOKENIZER_PATH)"
   ]
  },
  {
   "cell_type": "code",
   "execution_count": 9,
   "id": "30e3d09e-2776-461e-a952-44756f214ee1",
   "metadata": {},
   "outputs": [],
   "source": [
    "tokenizer = _make_smiles_tokenizer2(save_dirpath=PRETRAINED_TOKENIZER_PATH)"
   ]
  },
  {
   "cell_type": "code",
   "execution_count": 10,
   "id": "1ba17588-50b9-43b0-82e8-2dfe53ad81ea",
   "metadata": {},
   "outputs": [
    {
     "data": {
      "text/plain": [
       "transformers.tokenization_utils_fast.PreTrainedTokenizerFast"
      ]
     },
     "execution_count": 10,
     "metadata": {},
     "output_type": "execute_result"
    }
   ],
   "source": [
    "type(tokenizer)"
   ]
  },
  {
   "cell_type": "code",
   "execution_count": null,
   "id": "ecfaba3b-7098-46d3-ac31-a5bece9d0aba",
   "metadata": {},
   "outputs": [],
   "source": [
    "tokenizer.save_pretrained(PRETRAINED_TOKENIZER_PATH)"
   ]
  },
  {
   "cell_type": "code",
   "execution_count": null,
   "id": "eead0cca-6fd4-4507-86b1-eb6c14853044",
   "metadata": {},
   "outputs": [],
   "source": [
    "fast_tokenizer = PreTrainedTokenizerFast.from_pretrained(PRETRAINED_TOKENIZER_PATH)"
   ]
  },
  {
   "cell_type": "code",
   "execution_count": null,
   "id": "157321e0-64bb-4460-99b8-0414401ad8d9",
   "metadata": {},
   "outputs": [],
   "source": []
  }
 ],
 "metadata": {
  "kernelspec": {
   "display_name": "envlob",
   "language": "python",
   "name": "envlob"
  },
  "language_info": {
   "codemirror_mode": {
    "name": "ipython",
    "version": 3
   },
   "file_extension": ".py",
   "mimetype": "text/x-python",
   "name": "python",
   "nbconvert_exporter": "python",
   "pygments_lexer": "ipython3",
   "version": "3.12.11"
  }
 },
 "nbformat": 4,
 "nbformat_minor": 5
}
