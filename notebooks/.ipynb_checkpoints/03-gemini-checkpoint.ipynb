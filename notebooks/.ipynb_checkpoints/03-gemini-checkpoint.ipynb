{
 "cells": [
  {
   "cell_type": "markdown",
   "id": "a8fc3f9e-fdcb-45e1-a932-a62c7970f53b",
   "metadata": {},
   "source": [
    "# Lobster-Gemini tutorial notebook\n",
    "* Adapted from [here](https://code.roche.com/liny82/gemini_ranking_demo)"
   ]
  },
  {
   "cell_type": "code",
   "execution_count": 1,
   "id": "e7b83516-46bd-43b3-8ed7-bdbd02c24d4e",
   "metadata": {},
   "outputs": [],
   "source": [
    "%load_ext autoreload\n",
    "%autoreload 2"
   ]
  },
  {
   "cell_type": "code",
   "execution_count": 26,
   "id": "8caec0fe-eaf4-48cc-95ea-deb4b69e3278",
   "metadata": {},
   "outputs": [
    {
     "data": {
      "text/plain": [
       "'cpu'"
      ]
     },
     "execution_count": 26,
     "metadata": {},
     "output_type": "execute_result"
    }
   ],
   "source": [
    "import torch\n",
    "import pandas as pd\n",
    "import numpy as np\n",
    "import os\n",
    "import math\n",
    "from math import sqrt\n",
    "import torch.nn.functional as F\n",
    "import lightning.pytorch as pl\n",
    "import matplotlib.pyplot as plt\n",
    "import seaborn as sns\n",
    "\n",
    "from lobster.data import GeminiDataFrameLightningDataModule\n",
    "from lobster.model import GeminiModel\n",
    "\n",
    "from torchvision.transforms import Resize\n",
    "\n",
    "device = 'cuda' if torch.cuda.is_available() else 'cpu'\n",
    "torch.backends.cuda.matmul.allow_tf32 = True\n",
    "device"
   ]
  },
  {
   "cell_type": "code",
   "execution_count": 27,
   "id": "e9c119b5-d130-4ef3-bf7a-335b3723d9eb",
   "metadata": {},
   "outputs": [],
   "source": [
    "plt.rcParams[\"figure.figsize\"] = (4, 3)  # Set default figure size\n",
    "plt.rcParams[\"figure.dpi\"] = 150  # Set default figure dpi\n",
    "plt.rcParams[\"font.size\"] = 12  # Set default font size\n",
    "plt.rcParams[\"lines.linewidth\"] = 1.5  # Set default line width\n",
    "plt.rcParams[\"axes.linewidth\"] = 1.5  # Set default axes line width\n",
    "plt.rcParams[\"axes.grid\"] = True  # Show grid by default\n",
    "plt.rcParams[\"grid.linestyle\"] = \"--\"  # Set grid line style\n",
    "\n",
    "sns.set_style(\"ticks\")  # Set default seaborn style\n",
    "sns.set_palette(\"colorblind\")  # Set default color palette"
   ]
  },
  {
   "cell_type": "markdown",
   "id": "7cb99484-c7bb-43ae-afdd-a8f91e6ac41f",
   "metadata": {},
   "source": [
    "### Data prep\n",
    "* Read data with `fv_heavy`, `fv_light`, and `pKD` columns into a dataframe. Do whatever pre-processing and cleaning you'd like to do."
   ]
  },
  {
   "cell_type": "code",
   "execution_count": 41,
   "id": "64e5d40e-28ba-4b38-907b-54270c48a8a1",
   "metadata": {},
   "outputs": [
    {
     "name": "stdout",
     "output_type": "stream",
     "text": [
      "1142\n",
      "1139\n",
      "742\n"
     ]
    }
   ],
   "source": [
    "df_COSMO = pd.read_csv('s3://prescient-data-dev/sandbox/liny82/C1/262_cosmo_clean.csv')\n",
    "print(len(df_COSMO))\n",
    "df = df_COSMO.dropna(subset=['pKD'])\n",
    "print(len(df))\n",
    "\n",
    "FIT_QUALITY = 20. # 20 -> only keep very good quality sensograms. Change it to 1 to be closer to what scientists accept as a binder\n",
    "filter = (\n",
    "    (df.Rmax >= 20) \n",
    "    # & (df.Chi2 < df.Rmax/FIT_QUALITY) \n",
    "    & (1e-11 < df.kinetics_kd) \n",
    "    # & (df.kinetics_kd < 1e-4)\n",
    ")\n",
    "\n",
    "print(len(df[filter]))\n",
    "df = df[filter]"
   ]
  },
  {
   "cell_type": "markdown",
   "id": "f55f61c8-8c81-4ff4-a910-b51aaf7eae8d",
   "metadata": {},
   "source": [
    "### Instantiate a datamodule from the dataframe"
   ]
  },
  {
   "cell_type": "code",
   "execution_count": 4,
   "id": "110f3b50-75e7-4888-b86f-bb3b43c83000",
   "metadata": {},
   "outputs": [],
   "source": [
    "dm = GeminiDataFrameLightningDataModule(data=df_COSMO,\n",
    "                                 batch_size=128)\n",
    "dm.setup()"
   ]
  },
  {
   "cell_type": "markdown",
   "id": "fde8f52b-48ac-455e-bafe-2c29c24bb7ca",
   "metadata": {},
   "source": [
    "### Instantiate a Gemini model with a pre-trained encoder"
   ]
  },
  {
   "cell_type": "code",
   "execution_count": 5,
   "id": "ddcea65a-b3ed-4247-ba3e-53fda444a7d0",
   "metadata": {
    "collapsed": true,
    "jupyter": {
     "outputs_hidden": true
    },
    "tags": []
   },
   "outputs": [
    {
     "name": "stderr",
     "output_type": "stream",
     "text": [
      "/opt/homebrew/Caskroom/miniconda/base/envs/lobster/lib/python3.10/site-packages/torchmetrics/utilities/prints.py:43: UserWarning: Metric `SpearmanCorrcoef` will save all targets and predictions in the buffer. For large datasets, this may lead to large memory footprint.\n",
      "  warnings.warn(*args, **kwargs)  # noqa: B028\n",
      "/opt/homebrew/Caskroom/miniconda/base/envs/lobster/lib/python3.10/site-packages/torchvision/models/_utils.py:208: UserWarning: The parameter 'pretrained' is deprecated since 0.13 and may be removed in the future, please use 'weights' instead.\n",
      "  warnings.warn(\n",
      "/opt/homebrew/Caskroom/miniconda/base/envs/lobster/lib/python3.10/site-packages/torchvision/models/_utils.py:223: UserWarning: Arguments other than a weight enum or `None` for 'weights' are deprecated since 0.13 and may be removed in the future. The current behavior is equivalent to passing `weights=ResNet18_Weights.IMAGENET1K_V1`. You can also use `weights=ResNet18_Weights.DEFAULT` to get the most up-to-date weights.\n",
      "  warnings.warn(msg)\n"
     ]
    }
   ],
   "source": [
    "model = GeminiModel(model_name='esm2_t6_8M_UR50D');"
   ]
  },
  {
   "cell_type": "markdown",
   "id": "9f19fd88-b275-4c81-bc6c-203cec204726",
   "metadata": {},
   "source": [
    "### Train the model"
   ]
  },
  {
   "cell_type": "code",
   "execution_count": 6,
   "id": "48a31a3e-3b52-4faa-b3c8-b2ca93106c43",
   "metadata": {
    "tags": []
   },
   "outputs": [
    {
     "name": "stderr",
     "output_type": "stream",
     "text": [
      "GPU available: True (mps), used: False\n",
      "TPU available: False, using: 0 TPU cores\n",
      "IPU available: False, using: 0 IPUs\n",
      "HPU available: False, using: 0 HPUs\n",
      "/opt/homebrew/Caskroom/miniconda/base/envs/lobster/lib/python3.10/site-packages/lightning/pytorch/trainer/setup.py:187: GPU available but not used. You can set it by doing `Trainer(accelerator='gpu')`.\n",
      "/opt/homebrew/Caskroom/miniconda/base/envs/lobster/lib/python3.10/site-packages/lightning/pytorch/trainer/connectors/logger_connector/logger_connector.py:75: Starting from v1.9.0, `tensorboardX` has been removed as a dependency of the `lightning.pytorch` package, due to potential conflicts with other packages in the ML ecosystem. For this reason, `logger=True` will use `CSVLogger` as the default logger, unless the `tensorboard` or `tensorboardX` packages are found. Please `pip install lightning[extra]` or one of them to enable TensorBoard support by default\n"
     ]
    }
   ],
   "source": [
    "trainer = pl.Trainer(accelerator=device,\n",
    "                     max_epochs=1,\n",
    "                    )"
   ]
  },
  {
   "cell_type": "code",
   "execution_count": 7,
   "id": "96e611c0-4be7-4a76-90aa-12d50f4c4225",
   "metadata": {
    "tags": []
   },
   "outputs": [
    {
     "name": "stderr",
     "output_type": "stream",
     "text": [
      "\n",
      "   | Name           | Type              | Params\n",
      "------------------------------------------------------\n",
      "0  | _resize        | Resize            | 0     \n",
      "1  | model          | LobsterPMLM       | 7.8 M \n",
      "2  | train_r2score  | R2Score           | 0     \n",
      "3  | val_r2score    | R2Score           | 0     \n",
      "4  | test_r2score   | R2Score           | 0     \n",
      "5  | train_mae      | MeanAbsoluteError | 0     \n",
      "6  | val_mae        | MeanAbsoluteError | 0     \n",
      "7  | test_mae       | MeanAbsoluteError | 0     \n",
      "8  | train_spearman | SpearmanCorrCoef  | 0     \n",
      "9  | val_spearman   | SpearmanCorrCoef  | 0     \n",
      "10 | test_spearman  | SpearmanCorrCoef  | 0     \n",
      "11 | resnet         | ResNet            | 11.2 M\n",
      "12 | loss           | MSELoss           | 0     \n",
      "------------------------------------------------------\n",
      "11.2 M    Trainable params\n",
      "7.8 M     Non-trainable params\n",
      "19.0 M    Total params\n",
      "76.071    Total estimated model params size (MB)\n"
     ]
    },
    {
     "data": {
      "application/vnd.jupyter.widget-view+json": {
       "model_id": "b0a90849926949f8a5a4eff33dc6d381",
       "version_major": 2,
       "version_minor": 0
      },
      "text/plain": [
       "Sanity Checking: |                                                                                            …"
      ]
     },
     "metadata": {},
     "output_type": "display_data"
    },
    {
     "name": "stderr",
     "output_type": "stream",
     "text": [
      "/opt/homebrew/Caskroom/miniconda/base/envs/lobster/lib/python3.10/site-packages/lightning/pytorch/trainer/connectors/data_connector.py:441: The 'val_dataloader' does not have many workers which may be a bottleneck. Consider increasing the value of the `num_workers` argument` to `num_workers=7` in the `DataLoader` to improve performance.\n",
      "/opt/homebrew/Caskroom/miniconda/base/envs/lobster/lib/python3.10/site-packages/lightning/pytorch/trainer/connectors/data_connector.py:441: The 'train_dataloader' does not have many workers which may be a bottleneck. Consider increasing the value of the `num_workers` argument` to `num_workers=7` in the `DataLoader` to improve performance.\n",
      "/opt/homebrew/Caskroom/miniconda/base/envs/lobster/lib/python3.10/site-packages/lightning/pytorch/loops/fit_loop.py:298: The number of training batches (9) is smaller than the logging interval Trainer(log_every_n_steps=50). Set a lower value for log_every_n_steps if you want to see logs for the training epoch.\n"
     ]
    },
    {
     "data": {
      "application/vnd.jupyter.widget-view+json": {
       "model_id": "901474caa1544201bba5f03eaade5120",
       "version_major": 2,
       "version_minor": 0
      },
      "text/plain": [
       "Training: |                                                                                                   …"
      ]
     },
     "metadata": {},
     "output_type": "display_data"
    },
    {
     "name": "stderr",
     "output_type": "stream",
     "text": [
      "/opt/homebrew/Caskroom/miniconda/base/envs/lobster/lib/python3.10/site-packages/lightning/pytorch/trainer/call.py:54: Detected KeyboardInterrupt, attempting graceful shutdown...\n"
     ]
    }
   ],
   "source": [
    "trainer.fit(model, datamodule=dm)"
   ]
  },
  {
   "cell_type": "markdown",
   "id": "0b1221e1-477e-4423-97c5-a55e4c3fc9fb",
   "metadata": {
    "tags": []
   },
   "source": [
    "### Inference"
   ]
  },
  {
   "cell_type": "code",
   "execution_count": 17,
   "id": "4896da9e-7587-4e7c-a83b-5ae060e0614e",
   "metadata": {},
   "outputs": [],
   "source": [
    "dm.setup(stage='predict')"
   ]
  },
  {
   "cell_type": "code",
   "execution_count": 10,
   "id": "43662a2a-a812-4d21-b75a-ce4e92a9e5f5",
   "metadata": {},
   "outputs": [
    {
     "data": {
      "application/vnd.jupyter.widget-view+json": {
       "model_id": "4534118360f94c10b74151c589f351a9",
       "version_major": 2,
       "version_minor": 0
      },
      "text/plain": [
       "Predicting: |                                                                                                 …"
      ]
     },
     "metadata": {},
     "output_type": "display_data"
    }
   ],
   "source": [
    "preds = trainer.predict(model, datamodule=dm)"
   ]
  },
  {
   "cell_type": "code",
   "execution_count": 18,
   "id": "3acf49cd-d520-4249-a675-9795b1edbaf8",
   "metadata": {},
   "outputs": [],
   "source": [
    "model.eval();\n",
    "predict_dataloader = dm.predict_dataloader()"
   ]
  },
  {
   "cell_type": "code",
   "execution_count": 24,
   "id": "9128a8fb-cc8e-43f0-998a-f9e2c27b7535",
   "metadata": {},
   "outputs": [],
   "source": [
    "for idx, batch in enumerate(predict_dataloader):\n",
    "    with torch.inference_mode():\n",
    "        preds, targets = model.predict_step(batch, idx)\n",
    "        break"
   ]
  },
  {
   "cell_type": "code",
   "execution_count": 31,
   "id": "1ae11fcd-a25e-4e02-b8e4-553770ca6cea",
   "metadata": {},
   "outputs": [
    {
     "data": {
      "image/png": "[encoded data removed]",
      "text/plain": [
       "<Figure size 450x450 with 1 Axes>"
      ]
     },
     "metadata": {},
     "output_type": "display_data"
    }
   ],
   "source": [
    "scale= np.linspace(-3, 3 ,100)\n",
    "\n",
    "plt.figure(figsize=(3,3))        \n",
    "sns.scatterplot(x=targets, y=preds, s = 2)\n",
    "plt.plot(scale, scale, \"r\")\n",
    "plt.title(\"delta pKD\")\n",
    "plt.xlim(-3, 3)\n",
    "plt.ylim(-3, 3)\n",
    "plt.xlabel(\"delta pKD (ground truth)\")\n",
    "plt.ylabel(\"Gemini output [delta pKD]\")\n",
    "plt.show()"
   ]
  },
  {
   "cell_type": "code",
   "execution_count": null,
   "id": "c8a5b2be-ff4c-4932-bfb2-438d90908714",
   "metadata": {},
   "outputs": [],
   "source": []
  }
 ],
 "metadata": {
  "kernelspec": {
   "display_name": "lobster",
   "language": "python",
   "name": "lobster"
  },
  "language_info": {
   "codemirror_mode": {
    "name": "ipython",
    "version": 3
   },
   "file_extension": ".py",
   "mimetype": "text/x-python",
   "name": "python",
   "nbconvert_exporter": "python",
   "pygments_lexer": "ipython3",
   "version": "3.10.13"
  }
 },
 "nbformat": 4,
 "nbformat_minor": 5
}
