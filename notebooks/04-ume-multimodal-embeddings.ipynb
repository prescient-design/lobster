{
 "cells": [
  {
   "cell_type": "markdown",
   "metadata": {},
   "source": [
    "# UME Multi-Modal Embeddings Tutorial\n",
    "\n",
    "This notebook show how to use the Universal Molecular Encoder (UME) to generate embeddings for different molecular modalities: amino acids, SMILES, and nucleotides. Stay tuned for 3D coordinate embeddings and more!"
   ]
  },
  {
   "cell_type": "markdown",
   "metadata": {},
   "source": [
    "### Load from checkpoint"
   ]
  },
  {
   "cell_type": "code",
   "execution_count": 2,
   "metadata": {},
   "outputs": [
    {
     "name": "stdout",
     "output_type": "stream",
     "text": [
      "Supported modalities: ['SMILES', 'amino_acid', 'nucleotide', '3d_coordinates']\n",
      "Vocab size: 1280\n",
      "Embedding dimension: 768\n"
     ]
    }
   ],
   "source": [
    "from lobster.model import UME\n",
    "\n",
    "ume = UME.from_pretrained(\"ume-mini-base-12M\") \n",
    "\n",
    "print(f\"Supported modalities: {ume.modalities}\")\n",
    "print(f\"Vocab size: {len(ume.get_vocab())}\")\n",
    "print(f\"Embedding dimension: {ume.embedding_dim}\")"
   ]
  },
  {
   "cell_type": "markdown",
   "metadata": {},
   "source": [
    "### 1. Protein sequences\n",
    "\n",
    "Embed sample protein sequence to get full sequence embedding or per-residue embeddings."
   ]
  },
  {
   "cell_type": "code",
   "execution_count": null,
   "metadata": {},
   "outputs": [],
   "source": [
    "# Example protein sequences\n",
    "protein_sequences = [\n",
    "    \"MKTVRQERLKSIVRILERSKEPVSGAQLAEELSVSRQVIVQDIAYLRSLGYNIVATPRGYVLAGG\",  # Sample protein fragment\n",
    "    \"MVHLTPEEKSAVTALWGKVNVDEVGGEALGRLLVVYPWTQRFFESFGDLSTPDAVMGNPKVKAHGKKVLGAFSDGLAHLDNLKGTFATLSELHCDKLHVDPENFRLLGNVLVCVLAHHFGKEFTPPVQAAYQKVVAGVANALAHKYH\"  # Hemoglobin beta chain\n",
    "]\n",
    "\n",
    "# Get embeddings for protein sequences\n",
    "protein_embeddings = ume.embed_sequences(\n",
    "    protein_sequences, \n",
    "    modality=\"amino_acid\"\n",
    ")\n",
    "\n",
    "print(f\"Protein embeddings shape: {protein_embeddings.shape}\")\n",
    "\n",
    "\n",
    "# Get token-level embeddings (without aggregation)\n",
    "protein_residue_embeddings = ume.embed_sequences(\n",
    "    protein_sequences, \n",
    "    modality=\"amino_acid\", \n",
    "    aggregate=False\n",
    ")\n",
    "\n",
    "print(f\"Protein token-level embeddings shape: {protein_residue_embeddings.shape}\")"
   ]
  },
  {
   "cell_type": "markdown",
   "metadata": {},
   "source": [
    "### 2. SMILES\n",
    "SMILES strings are a text-based representation of molecular structures. Here we embed common drug molecules.\n"
   ]
  },
  {
   "cell_type": "code",
   "execution_count": null,
   "metadata": {},
   "outputs": [],
   "source": [
    "# Example SMILES strings for common molecules\n",
    "smiles_examples = [\n",
    "    \"CC(=O)OC1=CC=CC=C1C(=O)O\",  # Aspirin\n",
    "    \"CN1C=NC2=C1C(=O)N(C(=O)N2C)C\",  # Caffeine\n",
    "    \"COC1=CC=C(CCN)C=C1\",  # Dopamine\n",
    "    \"C1=CC=C(C(=C1)C(=O)O)O\",  # Salicylic acid\n",
    "    \"CCC(CC)COC(=O)[C@H](C)N[P@](=O)(OC[C@H]1O[C@@H]([C@H]([C@@H]1O)O)N1C=NC2=C1N=CN=C2N)OC1=CC=CC=C1\"  # Remdesivir\n",
    "]\n",
    "\n",
    "# Get embeddings for SMILES\n",
    "smiles_embeddings = ume.embed_sequences(\n",
    "    smiles_examples, \n",
    "    modality=\"SMILES\"\n",
    ")\n",
    "\n",
    "print(f\"SMILES embeddings shape: {smiles_embeddings.shape}\")"
   ]
  },
  {
   "cell_type": "markdown",
   "metadata": {},
   "source": [
    "### 3. Nucleotides\n",
    "\n",
    "Embed example DNA/RNA sequences."
   ]
  },
  {
   "cell_type": "code",
   "execution_count": null,
   "metadata": {},
   "outputs": [],
   "source": [
    "# Example DNA/RNA sequences\n",
    "nucleotide_sequences = [\n",
    "    \"ATGCATGCATGCATGCATGCATGCATGCATGCATGCATGCATGCATGC\",  \n",
    "    \"GATTACACAGTGCTTGACCCGATCGATCGATCGATCGATCGATCGATCGA\",  \n",
    "    \"AUGCUAUGCUAGCUAGCUAGCUAGCUAUGCUAGCUAUGCUAGCUAUC\"  # RNA sequence \n",
    "]\n",
    "\n",
    "# Get embeddings for nucleotide sequences\n",
    "nucleotide_embeddings = ume.embed_sequences(\n",
    "    nucleotide_sequences, \n",
    "    modality=\"nucleotide\"\n",
    ")\n",
    "print(f\"Nucleotide embeddings shape: {nucleotide_embeddings.shape}\")"
   ]
  },
  {
   "cell_type": "markdown",
   "metadata": {},
   "source": [
    "## Using Embeddings for Downstream Tasks\n",
    "Quick example of using molecular embeddings for a classification task."
   ]
  },
  {
   "cell_type": "code",
   "execution_count": null,
   "metadata": {},
   "outputs": [],
   "source": [
    "# Dummy classification setup \n",
    "import numpy as np\n",
    "from sklearn.ensemble import RandomForestClassifier\n",
    "from sklearn.model_selection import train_test_split\n",
    "from sklearn.metrics import classification_report\n",
    "\n",
    "# SMILES with some property labels\n",
    "inputs = [\"CC(=O)OC1=CC=CC=C1C(=O)O\", \"CN1C=NC2=C1C(=O)N(C(=O)N2C)C\", \"COC1=CC=C(CCN)C=C1\", \n",
    "              \"C1=CC=C(C(=C1)C(=O)O)O\", \"CC12CCC(CC1)CC(C2)C(C)CN\"]\n",
    "labels = [0, 1, 0, 1, 0]  # Binary classification example\n",
    "\n",
    "# Get embeddings\n",
    "X = ume.embed_sequences(inputs, modality=\"SMILES\").cpu().numpy()\n",
    "y = np.array(labels)\n",
    "\n",
    "# Train a simple classifier\n",
    "X_train, X_test, y_train, y_test = train_test_split(X, y, test_size=0.2, random_state=42)\n",
    "clf = RandomForestClassifier(n_estimators=100, random_state=42)\n",
    "clf.fit(X_train, y_train)\n",
    "\n",
    "# Evaluate\n",
    "y_pred = clf.predict(X_test)\n",
    "print(classification_report(y_test, y_pred))"
   ]
  },
  {
   "cell_type": "markdown",
   "metadata": {},
   "source": [
    "## Evaluate on Molecular Property Prediction Tasks\n",
    "\n",
    "Here is how to evaluate UME on tasks defined as callbacks. Note that training on and evaluating these tasks will take a few minutes."
   ]
  },
  {
   "cell_type": "code",
   "execution_count": null,
   "metadata": {},
   "outputs": [],
   "source": [
    "import pandas as pd\n",
    "\n",
    "from lobster.callbacks import CalmLinearProbeCallback, MoleculeACELinearProbeCallback\n",
    "\n",
    "molecule_ace_probe = MoleculeACELinearProbeCallback(\n",
    "    max_length=ume.embedding_dim\n",
    ")\n",
    "molecule_ace_scores = molecule_ace_probe.evaluate(ume)"
   ]
  },
  {
   "cell_type": "code",
   "execution_count": null,
   "metadata": {},
   "outputs": [],
   "source": [
    "pd.DataFrame(molecule_ace_scores).head()"
   ]
  },
  {
   "cell_type": "code",
   "execution_count": null,
   "metadata": {},
   "outputs": [],
   "source": [
    "calm_probe = CalmLinearProbeCallback(\n",
    "    max_length=ume.embedding_dim\n",
    ")\n",
    "calm_scores = calm_probe.evaluate(ume)"
   ]
  },
  {
   "cell_type": "code",
   "execution_count": null,
   "metadata": {},
   "outputs": [],
   "source": [
    "pd.DataFrame(calm_scores).head()"
   ]
  }
 ],
 "metadata": {
  "kernelspec": {
   "display_name": ".venv",
   "language": "python",
   "name": "python3"
  },
  "language_info": {
   "codemirror_mode": {
    "name": "ipython",
    "version": 3
   },
   "file_extension": ".py",
   "mimetype": "text/x-python",
   "name": "python",
   "nbconvert_exporter": "python",
   "pygments_lexer": "ipython3",
   "version": "3.12.11"
  }
 },
 "nbformat": 4,
 "nbformat_minor": 2
}
