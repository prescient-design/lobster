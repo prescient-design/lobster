{
 "cells": [
  {
   "cell_type": "markdown",
   "metadata": {},
   "source": [
    "# Ume Multi-Modal Embeddings Tutorial\n",
    "\n",
    "This notebook show how to use the Universal Molecular Encoder (Ume) to generate embeddings for different molecular modalities: amino acids, SMILES, and nucleotides. Stay tuned for 3D coordinate embeddings and more!"
   ]
  },
  {
   "cell_type": "code",
   "execution_count": 1,
   "metadata": {},
   "outputs": [
    {
     "name": "stderr",
     "output_type": "stream",
     "text": [
      "/Users/zadorozk/Desktop/code/lobster/.venv/lib/python3.12/site-packages/tqdm/auto.py:21: TqdmWarning: IProgress not found. Please update jupyter and ipywidgets. See https://ipywidgets.readthedocs.io/en/stable/user_install.html\n",
      "  from .autonotebook import tqdm as notebook_tqdm\n"
     ]
    },
    {
     "name": "stdout",
     "output_type": "stream",
     "text": [
      "Supported modalities: ['SMILES', 'amino_acid', 'nucleotide', '3d_coordinates']\n",
      "Vocab size: 1536\n"
     ]
    }
   ],
   "source": [
    "from lobster.model import Ume\n",
    "\n",
    "ume = Ume()\n",
    "\n",
    "print(f\"Supported modalities: {ume.modalities}\")\n",
    "print(f\"Vocab size: {len(ume.get_vocab())}\")"
   ]
  },
  {
   "cell_type": "markdown",
   "metadata": {},
   "source": [
    "### Load from checkpoint"
   ]
  },
  {
   "cell_type": "code",
   "execution_count": null,
   "metadata": {},
   "outputs": [],
   "source": [
    "checkpoint = \"ume-checkpoints/last.ckpt\" # Replace with the correct checkpoint path\n",
    "\n",
    "ume = Ume.load_from_checkpoint(checkpoint)"
   ]
  },
  {
   "cell_type": "markdown",
   "metadata": {},
   "source": [
    "### 1. Protein sequences\n",
    "\n",
    "Embed sample protein sequence to get full sequence embedding or per-residue embeddings."
   ]
  },
  {
   "cell_type": "code",
   "execution_count": 3,
   "metadata": {},
   "outputs": [
    {
     "name": "stdout",
     "output_type": "stream",
     "text": [
      "Protein embeddings shape: torch.Size([3, 384])\n",
      "Protein token-level embeddings shape: torch.Size([3, 512, 384])\n"
     ]
    }
   ],
   "source": [
    "# Example protein sequences\n",
    "protein_sequences = [\n",
    "    \"MKTVRQERLKSIVRILERSKEPVSGAQLAEELSVSRQVIVQDIAYLRSLGYNIVATPRGYVLAGG\",  # Sample protein fragment\n",
    "    \"MLSRAVCGTSRQLAPVLAYLGSRQKHSLPDLPYDYGALEPHINAQIMQLHHSKHHAAYVNNLNVTEEKYQEALAKGDVTAQIALQPALKFNGGGHINHSIFWTNLSPNGGGEPKGELLEAIKRDFGSFDKFKEKLTAASVGVQGSGWGWLGFNKERGHLQIAACPNQDPLQGTTGLIPLLGIDVWEHAYYLQYKNVRPDYLKAIWNVINWENVTERYMACKK\",  # Human SOD1\n",
    "    \"MVHLTPEEKSAVTALWGKVNVDEVGGEALGRLLVVYPWTQRFFESFGDLSTPDAVMGNPKVKAHGKKVLGAFSDGLAHLDNLKGTFATLSELHCDKLHVDPENFRLLGNVLVCVLAHHFGKEFTPPVQAAYQKVVAGVANALAHKYH\"  # Hemoglobin beta chain\n",
    "]\n",
    "\n",
    "# Get embeddings for protein sequences\n",
    "protein_embeddings = ume.get_embeddings(protein_sequences, modality=\"amino_acid\")\n",
    "print(f\"Protein embeddings shape: {protein_embeddings.shape}\")\n",
    "\n",
    "# Get token-level embeddings (without aggregation)\n",
    "protein_residue_embeddings = ume.get_embeddings(protein_sequences, modality=\"amino_acid\", aggregate=False)\n",
    "print(f\"Protein token-level embeddings shape: {protein_residue_embeddings.shape}\")"
   ]
  },
  {
   "cell_type": "markdown",
   "metadata": {},
   "source": [
    "### 2. SMILES\n",
    "SMILES strings are a text-based representation of molecular structures. Here we embed common drug molecules.\n"
   ]
  },
  {
   "cell_type": "code",
   "execution_count": 4,
   "metadata": {},
   "outputs": [
    {
     "name": "stdout",
     "output_type": "stream",
     "text": [
      "SMILES embeddings shape: torch.Size([5, 384])\n"
     ]
    }
   ],
   "source": [
    "# Example SMILES strings for common molecules\n",
    "smiles_examples = [\n",
    "    \"CC(=O)OC1=CC=CC=C1C(=O)O\",  # Aspirin\n",
    "    \"CN1C=NC2=C1C(=O)N(C(=O)N2C)C\",  # Caffeine\n",
    "    \"COC1=CC=C(CCN)C=C1\",  # Dopamine\n",
    "    \"C1=CC=C(C(=C1)C(=O)O)O\",  # Salicylic acid\n",
    "    \"CCC(CC)COC(=O)[C@H](C)N[P@](=O)(OC[C@H]1O[C@@H]([C@H]([C@@H]1O)O)N1C=NC2=C1N=CN=C2N)OC1=CC=CC=C1\"  # Remdesivir\n",
    "]\n",
    "\n",
    "# Get embeddings for SMILES\n",
    "smiles_embeddings = ume.get_embeddings(smiles_examples, modality=\"SMILES\")\n",
    "print(f\"SMILES embeddings shape: {smiles_embeddings.shape}\")"
   ]
  },
  {
   "cell_type": "markdown",
   "metadata": {},
   "source": [
    "### 3. Nucleotides\n",
    "\n",
    "Embed example DNA/RNA sequences."
   ]
  },
  {
   "cell_type": "code",
   "execution_count": 6,
   "metadata": {},
   "outputs": [
    {
     "name": "stdout",
     "output_type": "stream",
     "text": [
      "Nucleotide embeddings shape: torch.Size([3, 384])\n"
     ]
    }
   ],
   "source": [
    "# Example DNA/RNA sequences\n",
    "nucleotide_sequences = [\n",
    "    \"ATGCATGCATGCATGCATGCATGCATGCATGCATGCATGCATGCATGC\",  \n",
    "    \"GATTACACAGTGCTTGACCCGATCGATCGATCGATCGATCGATCGATCGA\",  \n",
    "    \"AUGCUAUGCUAGCUAGCUAGCUAGCUAUGCUAGCUAUGCUAGCUAUC\"  # RNA sequence \n",
    "]\n",
    "\n",
    "# Get embeddings for nucleotide sequences\n",
    "nucleotide_embeddings = ume.get_embeddings(nucleotide_sequences, modality=\"nucleotide\")\n",
    "print(f\"Nucleotide embeddings shape: {nucleotide_embeddings.shape}\")"
   ]
  },
  {
   "cell_type": "markdown",
   "metadata": {},
   "source": [
    "## Using Embeddings for Downstream Tasks\n",
    "Quick example of using molecular embeddings for a classification task."
   ]
  },
  {
   "cell_type": "code",
   "execution_count": null,
   "metadata": {},
   "outputs": [
    {
     "name": "stdout",
     "output_type": "stream",
     "text": [
      "              precision    recall  f1-score   support\n",
      "\n",
      "           0       0.00      0.00      0.00       0.0\n",
      "           1       0.00      0.00      0.00       1.0\n",
      "\n",
      "    accuracy                           0.00       1.0\n",
      "   macro avg       0.00      0.00      0.00       1.0\n",
      "weighted avg       0.00      0.00      0.00       1.0\n",
      "\n"
     ]
    },
    {
     "name": "stderr",
     "output_type": "stream",
     "text": [
      "/home/zeus/miniconda3/envs/cloudspace/lib/python3.10/site-packages/sklearn/metrics/_classification.py:1471: UndefinedMetricWarning: Precision and F-score are ill-defined and being set to 0.0 in labels with no predicted samples. Use `zero_division` parameter to control this behavior.\n",
      "  _warn_prf(average, modifier, msg_start, len(result))\n",
      "/home/zeus/miniconda3/envs/cloudspace/lib/python3.10/site-packages/sklearn/metrics/_classification.py:1471: UndefinedMetricWarning: Recall and F-score are ill-defined and being set to 0.0 in labels with no true samples. Use `zero_division` parameter to control this behavior.\n",
      "  _warn_prf(average, modifier, msg_start, len(result))\n",
      "/home/zeus/miniconda3/envs/cloudspace/lib/python3.10/site-packages/sklearn/metrics/_classification.py:1471: UndefinedMetricWarning: Precision and F-score are ill-defined and being set to 0.0 in labels with no predicted samples. Use `zero_division` parameter to control this behavior.\n",
      "  _warn_prf(average, modifier, msg_start, len(result))\n",
      "/home/zeus/miniconda3/envs/cloudspace/lib/python3.10/site-packages/sklearn/metrics/_classification.py:1471: UndefinedMetricWarning: Recall and F-score are ill-defined and being set to 0.0 in labels with no true samples. Use `zero_division` parameter to control this behavior.\n",
      "  _warn_prf(average, modifier, msg_start, len(result))\n",
      "/home/zeus/miniconda3/envs/cloudspace/lib/python3.10/site-packages/sklearn/metrics/_classification.py:1471: UndefinedMetricWarning: Precision and F-score are ill-defined and being set to 0.0 in labels with no predicted samples. Use `zero_division` parameter to control this behavior.\n",
      "  _warn_prf(average, modifier, msg_start, len(result))\n",
      "/home/zeus/miniconda3/envs/cloudspace/lib/python3.10/site-packages/sklearn/metrics/_classification.py:1471: UndefinedMetricWarning: Recall and F-score are ill-defined and being set to 0.0 in labels with no true samples. Use `zero_division` parameter to control this behavior.\n",
      "  _warn_prf(average, modifier, msg_start, len(result))\n"
     ]
    }
   ],
   "source": [
    "# Dummy classification setup \n",
    "import numpy as np\n",
    "from sklearn.ensemble import RandomForestClassifier\n",
    "from sklearn.model_selection import train_test_split\n",
    "from sklearn.metrics import classification_report\n",
    "\n",
    "# SMILES with some property labels\n",
    "inputs = [\"CC(=O)OC1=CC=CC=C1C(=O)O\", \"CN1C=NC2=C1C(=O)N(C(=O)N2C)C\", \"COC1=CC=C(CCN)C=C1\", \n",
    "              \"C1=CC=C(C(=C1)C(=O)O)O\", \"CC12CCC(CC1)CC(C2)C(C)CN\"]\n",
    "labels = [0, 1, 0, 1, 0]  # Binary classification example\n",
    "\n",
    "# Get embeddings\n",
    "X = ume.get_embeddings(inputs, modality=\"SMILES\").cpu().numpy()\n",
    "y = np.array(labels)\n",
    "\n",
    "# Train a simple classifier\n",
    "X_train, X_test, y_train, y_test = train_test_split(X, y, test_size=0.2, random_state=42)\n",
    "clf = RandomForestClassifier(n_estimators=100, random_state=42)\n",
    "clf.fit(X_train, y_train)\n",
    "\n",
    "# Evaluate\n",
    "y_pred = clf.predict(X_test)\n",
    "print(classification_report(y_test, y_pred))"
   ]
  }
 ],
 "metadata": {
  "kernelspec": {
   "display_name": ".venv",
   "language": "python",
   "name": "python3"
  },
  "language_info": {
   "codemirror_mode": {
    "name": "ipython",
    "version": 3
   },
   "file_extension": ".py",
   "mimetype": "text/x-python",
   "name": "python",
   "nbconvert_exporter": "python",
   "pygments_lexer": "ipython3",
   "version": "3.12.9"
  }
 },
 "nbformat": 4,
 "nbformat_minor": 2
}
