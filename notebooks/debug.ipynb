{
 "cells": [
  {
   "cell_type": "code",
   "execution_count": 2,
   "metadata": {},
   "outputs": [
    {
     "name": "stdout",
     "output_type": "stream",
     "text": [
      "The autoreload extension is already loaded. To reload it, use:\n",
      "  %reload_ext autoreload\n"
     ]
    }
   ],
   "source": [
    "%load_ext autoreload\n",
    "%autoreload 2"
   ]
  },
  {
   "cell_type": "code",
   "execution_count": 3,
   "metadata": {},
   "outputs": [],
   "source": [
    "import torch\n",
    "\n",
    "sequence_length = 256\n",
    "batch = {\n",
    "    \"input_ids\": torch.randint(0, 400, (32,2,sequence_length)), # shape  (batch size, num views, sequence length)\n",
    "    \"attention_mask\": torch.ones((32,2,sequence_length)),\n",
    "    \"modality\": [(\"amino_acid\", \"amino_acid\", \"amino_acid\"), (\"amino_acid\", \"amino_acid\", \"amino_acid\")],\n",
    "}"
   ]
  },
  {
   "cell_type": "code",
   "execution_count": null,
   "metadata": {},
   "outputs": [],
   "source": [
    "from lobster.model import UME\n",
    "import torch\n",
    "\n",
    "sequence_length = 256\n",
    "batch = {\n",
    "    \"input_ids\": torch.randint(0, 400, (32,2,sequence_length)), # shape  (batch size, num views, sequence length)\n",
    "    \"attention_mask\": torch.ones((32,2,sequence_length)),\n",
    "    \"modality\": [(\"amino_acid\", \"amino_acid\", \"amino_acid\"), (\"amino_acid\", \"amino_acid\", \"amino_acid\")],\n",
    "}\n",
    "# compare loss values for different temperatures\n",
    "for temperature in [0.07, 0.1, 0.2, 0.5, 1.0]:\n",
    "    model = UME(contrastive_loss_type=\"symile\", contrastive_loss_weight=1.0, contrastive_temperature=temperature)\n",
    "    loss = model.training_step(batch, 0)\n",
    "    print(f\"Temperature: {temperature}, Loss: {loss}\")\n"
   ]
  },
  {
   "cell_type": "code",
   "execution_count": null,
   "metadata": {},
   "outputs": [],
   "source": [
    "# compare loss values for different temperatures\n",
    "for temperature in [0.07, 0.1, 0.2, 0.5, 1.0]:\n",
    "    model = UME(contrastive_loss_type=\"clip\", contrastive_loss_weight=1.0, contrastive_temperature=temperature)\n",
    "    loss = model.training_step(batch, 0)\n",
    "    print(f\"Temperature: {temperature}, Loss: {loss}\")\n"
   ]
  },
  {
   "cell_type": "code",
   "execution_count": 4,
   "metadata": {},
   "outputs": [
    {
     "name": "stderr",
     "output_type": "stream",
     "text": [
      "/Users/zadorozk/Desktop/lobster/.venv/lib/python3.12/site-packages/tqdm/auto.py:21: TqdmWarning: IProgress not found. Please update jupyter and ipywidgets. See https://ipywidgets.readthedocs.io/en/stable/user_install.html\n",
      "  from .autonotebook import tqdm as notebook_tqdm\n",
      "/Users/zadorozk/Desktop/lobster/src/lobster/model/modern_bert/_modern_bert.py:112: UserWarning: flash_attn not available but use_fa2=True. Setting use_fa2=False. This will use standard attention instead of flash-attn.\n",
      "  warnings.warn(\n",
      "WARNING:lobster.model.modern_bert._attention:SDPA attention is being used without an attention mask. Including padding in the  attention calculation may cause differences from the Flash Attention implementation.\n"
     ]
    },
    {
     "name": "stdout",
     "output_type": "stream",
     "text": [
      "UMEPrevious init\n"
     ]
    },
    {
     "name": "stderr",
     "output_type": "stream",
     "text": [
      "/Users/zadorozk/Desktop/lobster/.venv/lib/python3.12/site-packages/lightning/pytorch/core/module.py:441: You are trying to `self.log()` but the `self.trainer` reference is not registered on the model yet. This is most likely because the model hasn't been passed to the `Trainer`\n"
     ]
    },
    {
     "name": "stdout",
     "output_type": "stream",
     "text": [
      "Temperature: 0.07, Loss: 3.46404767036438\n",
      "UMEPrevious init\n"
     ]
    },
    {
     "ename": "",
     "evalue": "",
     "output_type": "error",
     "traceback": [
      "\u001b[1;31mThe Kernel crashed while executing code in the current cell or a previous cell. \n",
      "\u001b[1;31mPlease review the code in the cell(s) to identify a possible cause of the failure. \n",
      "\u001b[1;31mClick <a href='https://aka.ms/vscodeJupyterKernelCrash'>here</a> for more info. \n",
      "\u001b[1;31mView Jupyter <a href='command:jupyter.viewOutput'>log</a> for further details."
     ]
    }
   ],
   "source": [
    "from lobster.model.ume_previous import UMEPrevious\n",
    "\n",
    "for temperature in [0.07, 0.1, 0.2, 0.5, 1.0]:\n",
    "    model = UMEPrevious(contrastive_loss_weight=1.0, contrastive_temperature=temperature)\n",
    "    loss = model.training_step(batch, 0)\n",
    "    print(f\"Temperature: {temperature}, Loss: {loss}\")"
   ]
  },
  {
   "cell_type": "code",
   "execution_count": null,
   "metadata": {},
   "outputs": [],
   "source": []
  }
 ],
 "metadata": {
  "kernelspec": {
   "display_name": ".venv",
   "language": "python",
   "name": "python3"
  },
  "language_info": {
   "codemirror_mode": {
    "name": "ipython",
    "version": 3
   },
   "file_extension": ".py",
   "mimetype": "text/x-python",
   "name": "python",
   "nbconvert_exporter": "python",
   "pygments_lexer": "ipython3",
   "version": "3.12.11"
  }
 },
 "nbformat": 4,
 "nbformat_minor": 2
}
